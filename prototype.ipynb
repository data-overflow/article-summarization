{
 "cells": [
  {
   "cell_type": "markdown",
   "id": "6964085e-a5e8-4275-b0b6-bee2184e9a16",
   "metadata": {},
   "source": [
    "# Global Article Summarization and Link Analysis\n",
    "**PROBLEM STATEMENT 1**\n",
    "https://drive.google.com/file/d/1rhS3kvKaegBEo9il9ijX-k0QhdFdsgPr/view\n",
    "\n",
    "### Key tasks:\n",
    "- Article classification - ex: virat kohli -> sports, songs, etc.\n",
    "- **Article summarization** - could be done using open-source models (30%)\n",
    "- Natural language based **information retrieval system** - cosine similarity? (30%)\n",
    "- Keywords extraction - bold them or use it for related articles\n",
    "- **Related articles** - we could possibly do this be having a vector embedding for every article, and find the closest n articles in the vector space (30%)\n",
    "- **Interactive, intuitive UI** - with feature to tweak summarization size (10%)\n",
    "- Bonus - translation of summary\n",
    "\n",
    "[Dataset 1](https://www.kaggle.com/datasets/everydaycodings/global-news-dataset?resource=download)\n",
    "\n",
    "## Architecture Diagram\n",
    "![Architecture Diagram](imgs/UI.png)\n",
    "\n",
    "### Loading the required modules"
   ]
  },
  {
   "cell_type": "code",
   "execution_count": 1,
   "id": "7c6e21a5-14c9-4e9e-9c3c-a7567998b605",
   "metadata": {},
   "outputs": [
    {
     "name": "stderr",
     "output_type": "stream",
     "text": [
      "Intel(R) Extension for Scikit-learn* enabled (https://github.com/intel/scikit-learn-intelex)\n",
      "2024-02-19 00:53:56.613038: I external/local_tsl/tsl/cuda/cudart_stub.cc:31] Could not find cuda drivers on your machine, GPU will not be used.\n",
      "2024-02-19 00:53:56.648443: E external/local_xla/xla/stream_executor/cuda/cuda_dnn.cc:9261] Unable to register cuDNN factory: Attempting to register factory for plugin cuDNN when one has already been registered\n",
      "2024-02-19 00:53:56.648526: E external/local_xla/xla/stream_executor/cuda/cuda_fft.cc:607] Unable to register cuFFT factory: Attempting to register factory for plugin cuFFT when one has already been registered\n",
      "2024-02-19 00:53:56.649603: E external/local_xla/xla/stream_executor/cuda/cuda_blas.cc:1515] Unable to register cuBLAS factory: Attempting to register factory for plugin cuBLAS when one has already been registered\n",
      "2024-02-19 00:53:56.655715: I external/local_tsl/tsl/cuda/cudart_stub.cc:31] Could not find cuda drivers on your machine, GPU will not be used.\n",
      "2024-02-19 00:53:56.656535: I tensorflow/core/platform/cpu_feature_guard.cc:182] This TensorFlow binary is optimized to use available CPU instructions in performance-critical operations.\n",
      "To enable the following instructions: AVX2 AVX512F FMA, in other operations, rebuild TensorFlow with the appropriate compiler flags.\n",
      "2024-02-19 00:53:59.271580: W tensorflow/compiler/tf2tensorrt/utils/py_utils.cc:38] TF-TRT Warning: Could not find TensorRT\n"
     ]
    }
   ],
   "source": [
    "import pandas as pd\n",
    "import numpy as np\n",
    "from sklearnex import patch_sklearn\n",
    "patch_sklearn()\n",
    "from sklearn.feature_extraction.text import TfidfVectorizer\n",
    "from sklearn.metrics.pairwise import cosine_similarity\n",
    "from transformers import pipeline\n",
    "from transformers import AutoTokenizer"
   ]
  },
  {
   "cell_type": "markdown",
   "id": "2b1e4e06-d3a8-4a85-be74-ea5bab012650",
   "metadata": {},
   "source": [
    "### Preparing the dataset"
   ]
  },
  {
   "cell_type": "code",
   "execution_count": 4,
   "id": "d6faeacc-4666-4203-baa3-2085fe56e5f1",
   "metadata": {},
   "outputs": [
    {
     "data": {
      "text/html": [
       "<div>\n",
       "<style scoped>\n",
       "    .dataframe tbody tr th:only-of-type {\n",
       "        vertical-align: middle;\n",
       "    }\n",
       "\n",
       "    .dataframe tbody tr th {\n",
       "        vertical-align: top;\n",
       "    }\n",
       "\n",
       "    .dataframe thead th {\n",
       "        text-align: right;\n",
       "    }\n",
       "</style>\n",
       "<table border=\"1\" class=\"dataframe\">\n",
       "  <thead>\n",
       "    <tr style=\"text-align: right;\">\n",
       "      <th></th>\n",
       "      <th>article_id</th>\n",
       "      <th>source_id</th>\n",
       "      <th>source_name</th>\n",
       "      <th>author</th>\n",
       "      <th>title</th>\n",
       "      <th>description</th>\n",
       "      <th>url</th>\n",
       "      <th>url_to_image</th>\n",
       "      <th>published_at</th>\n",
       "      <th>content</th>\n",
       "      <th>category</th>\n",
       "      <th>full_content</th>\n",
       "    </tr>\n",
       "  </thead>\n",
       "  <tbody>\n",
       "    <tr>\n",
       "      <th>0</th>\n",
       "      <td>89541</td>\n",
       "      <td>NaN</td>\n",
       "      <td>International Business Times</td>\n",
       "      <td>Paavan MATHEMA</td>\n",
       "      <td>UN Chief Urges World To 'Stop The Madness' Of ...</td>\n",
       "      <td>UN Secretary-General Antonio Guterres urged th...</td>\n",
       "      <td>https://www.ibtimes.com/un-chief-urges-world-s...</td>\n",
       "      <td>https://d.ibtimes.com/en/full/4496078/nepals-g...</td>\n",
       "      <td>2023-10-30 10:12:35.000000</td>\n",
       "      <td>UN Secretary-General Antonio Guterres urged th...</td>\n",
       "      <td>Nepal</td>\n",
       "      <td>UN Secretary-General Antonio Guterres urged th...</td>\n",
       "    </tr>\n",
       "    <tr>\n",
       "      <th>1</th>\n",
       "      <td>89542</td>\n",
       "      <td>NaN</td>\n",
       "      <td>Prtimes.jp</td>\n",
       "      <td>NaN</td>\n",
       "      <td>RANDEBOOよりワンランク上の大人っぽさが漂うニットとベストが新登場。</td>\n",
       "      <td>[株式会社Ainer]\\nRANDEBOO（ランデブー）では2023年7月18日(火)より公...</td>\n",
       "      <td>https://prtimes.jp/main/html/rd/p/000000147.00...</td>\n",
       "      <td>https://prtimes.jp/i/32220/147/ogp/d32220-147-...</td>\n",
       "      <td>2023-10-06 04:40:02.000000</td>\n",
       "      <td>RANDEBOO2023718()WEB2023 Autumn Winter \\n\"Nepa...</td>\n",
       "      <td>Nepal</td>\n",
       "      <td>NaN</td>\n",
       "    </tr>\n",
       "  </tbody>\n",
       "</table>\n",
       "</div>"
      ],
      "text/plain": [
       "   article_id source_id                   source_name          author  \\\n",
       "0       89541       NaN  International Business Times  Paavan MATHEMA   \n",
       "1       89542       NaN                    Prtimes.jp             NaN   \n",
       "\n",
       "                                               title  \\\n",
       "0  UN Chief Urges World To 'Stop The Madness' Of ...   \n",
       "1              RANDEBOOよりワンランク上の大人っぽさが漂うニットとベストが新登場。   \n",
       "\n",
       "                                         description  \\\n",
       "0  UN Secretary-General Antonio Guterres urged th...   \n",
       "1  [株式会社Ainer]\\nRANDEBOO（ランデブー）では2023年7月18日(火)より公...   \n",
       "\n",
       "                                                 url  \\\n",
       "0  https://www.ibtimes.com/un-chief-urges-world-s...   \n",
       "1  https://prtimes.jp/main/html/rd/p/000000147.00...   \n",
       "\n",
       "                                        url_to_image  \\\n",
       "0  https://d.ibtimes.com/en/full/4496078/nepals-g...   \n",
       "1  https://prtimes.jp/i/32220/147/ogp/d32220-147-...   \n",
       "\n",
       "                 published_at  \\\n",
       "0  2023-10-30 10:12:35.000000   \n",
       "1  2023-10-06 04:40:02.000000   \n",
       "\n",
       "                                             content category  \\\n",
       "0  UN Secretary-General Antonio Guterres urged th...    Nepal   \n",
       "1  RANDEBOO2023718()WEB2023 Autumn Winter \\n\"Nepa...    Nepal   \n",
       "\n",
       "                                        full_content  \n",
       "0  UN Secretary-General Antonio Guterres urged th...  \n",
       "1                                                NaN  "
      ]
     },
     "execution_count": 4,
     "metadata": {},
     "output_type": "execute_result"
    }
   ],
   "source": [
    "data = pd.read_csv(\"./data.csv\")\n",
    "data.head(2)"
   ]
  },
  {
   "cell_type": "code",
   "execution_count": 5,
   "id": "e7a1ef3d-b1e1-4043-b047-f4f9652cba9e",
   "metadata": {},
   "outputs": [
    {
     "name": "stdout",
     "output_type": "stream",
     "text": [
      "<class 'pandas.core.frame.DataFrame'>\n",
      "RangeIndex: 105375 entries, 0 to 105374\n",
      "Data columns (total 12 columns):\n",
      " #   Column        Non-Null Count   Dtype \n",
      "---  ------        --------------   ----- \n",
      " 0   article_id    105375 non-null  int64 \n",
      " 1   source_id     24495 non-null   object\n",
      " 2   source_name   105375 non-null  object\n",
      " 3   author        97156 non-null   object\n",
      " 4   title         105335 non-null  object\n",
      " 5   description   104992 non-null  object\n",
      " 6   url           105375 non-null  object\n",
      " 7   url_to_image  99751 non-null   object\n",
      " 8   published_at  105375 non-null  object\n",
      " 9   content       105375 non-null  object\n",
      " 10  category      105333 non-null  object\n",
      " 11  full_content  58432 non-null   object\n",
      "dtypes: int64(1), object(11)\n",
      "memory usage: 9.6+ MB\n"
     ]
    }
   ],
   "source": [
    "data.info()"
   ]
  },
  {
   "cell_type": "markdown",
   "id": "b6c3bc2d-dfba-40fc-9b7a-aa38216fe29c",
   "metadata": {},
   "source": [
    "### Null Handling"
   ]
  },
  {
   "cell_type": "code",
   "execution_count": 6,
   "id": "e4dc81f2-d6f4-4316-805e-0895630497cf",
   "metadata": {},
   "outputs": [
    {
     "data": {
      "text/plain": [
       "article_id          0\n",
       "source_id       80880\n",
       "source_name         0\n",
       "author           8219\n",
       "title              40\n",
       "description       383\n",
       "url                 0\n",
       "url_to_image     5624\n",
       "published_at        0\n",
       "content             0\n",
       "category           42\n",
       "full_content    46943\n",
       "dtype: int64"
      ]
     },
     "execution_count": 6,
     "metadata": {},
     "output_type": "execute_result"
    }
   ],
   "source": [
    "null_counts = data.isnull().sum()\n",
    "null_counts"
   ]
  },
  {
   "cell_type": "code",
   "execution_count": 7,
   "id": "8dc87edc-0c1c-4373-aad2-6cf70795566c",
   "metadata": {},
   "outputs": [
    {
     "data": {
      "text/html": [
       "<div>\n",
       "<style scoped>\n",
       "    .dataframe tbody tr th:only-of-type {\n",
       "        vertical-align: middle;\n",
       "    }\n",
       "\n",
       "    .dataframe tbody tr th {\n",
       "        vertical-align: top;\n",
       "    }\n",
       "\n",
       "    .dataframe thead th {\n",
       "        text-align: right;\n",
       "    }\n",
       "</style>\n",
       "<table border=\"1\" class=\"dataframe\">\n",
       "  <thead>\n",
       "    <tr style=\"text-align: right;\">\n",
       "      <th></th>\n",
       "      <th>article_id</th>\n",
       "      <th>source_id</th>\n",
       "      <th>source_name</th>\n",
       "      <th>author</th>\n",
       "      <th>title</th>\n",
       "      <th>description</th>\n",
       "      <th>url</th>\n",
       "      <th>url_to_image</th>\n",
       "      <th>published_at</th>\n",
       "      <th>content</th>\n",
       "      <th>category</th>\n",
       "      <th>full_content</th>\n",
       "    </tr>\n",
       "  </thead>\n",
       "  <tbody>\n",
       "    <tr>\n",
       "      <th>1139</th>\n",
       "      <td>91420</td>\n",
       "      <td>NaN</td>\n",
       "      <td>kottke.org</td>\n",
       "      <td>Jason Kottke</td>\n",
       "      <td>NaN</td>\n",
       "      <td>Is food in America better or worse than in oth...</td>\n",
       "      <td>https://kottke.org/23/10/0043175-is-food-in-am...</td>\n",
       "      <td>NaN</td>\n",
       "      <td>2023-10-06 22:16:33.000000</td>\n",
       "      <td>Is food in America better or worse than in oth...</td>\n",
       "      <td>Peru</td>\n",
       "      <td>NaN</td>\n",
       "    </tr>\n",
       "    <tr>\n",
       "      <th>16575</th>\n",
       "      <td>8362</td>\n",
       "      <td>NaN</td>\n",
       "      <td>Thegospelcoalition.org</td>\n",
       "      <td>Scotty Smith</td>\n",
       "      <td>NaN</td>\n",
       "      <td>“He (the Messiah—Jesus) shall judge between th...</td>\n",
       "      <td>https://www.thegospelcoalition.org/blogs/scott...</td>\n",
       "      <td>https://media.thegospelcoalition.org/wp-conten...</td>\n",
       "      <td>2023-10-08 11:28:57.000000</td>\n",
       "      <td>He (the MessiahJesus) shall judge between the ...</td>\n",
       "      <td>Somalia</td>\n",
       "      <td>NaN</td>\n",
       "    </tr>\n",
       "  </tbody>\n",
       "</table>\n",
       "</div>"
      ],
      "text/plain": [
       "       article_id source_id             source_name        author title  \\\n",
       "1139        91420       NaN              kottke.org  Jason Kottke   NaN   \n",
       "16575        8362       NaN  Thegospelcoalition.org  Scotty Smith   NaN   \n",
       "\n",
       "                                             description  \\\n",
       "1139   Is food in America better or worse than in oth...   \n",
       "16575  “He (the Messiah—Jesus) shall judge between th...   \n",
       "\n",
       "                                                     url  \\\n",
       "1139   https://kottke.org/23/10/0043175-is-food-in-am...   \n",
       "16575  https://www.thegospelcoalition.org/blogs/scott...   \n",
       "\n",
       "                                            url_to_image  \\\n",
       "1139                                                 NaN   \n",
       "16575  https://media.thegospelcoalition.org/wp-conten...   \n",
       "\n",
       "                     published_at  \\\n",
       "1139   2023-10-06 22:16:33.000000   \n",
       "16575  2023-10-08 11:28:57.000000   \n",
       "\n",
       "                                                 content category full_content  \n",
       "1139   Is food in America better or worse than in oth...     Peru          NaN  \n",
       "16575  He (the MessiahJesus) shall judge between the ...  Somalia          NaN  "
      ]
     },
     "execution_count": 7,
     "metadata": {},
     "output_type": "execute_result"
    }
   ],
   "source": [
    "# Null values in title\n",
    "data[data['title'].isnull()].head(2)"
   ]
  },
  {
   "cell_type": "code",
   "execution_count": 8,
   "id": "6a2eb253-daa7-4188-9c20-9652430ecbf6",
   "metadata": {},
   "outputs": [
    {
     "data": {
      "text/plain": [
       "0"
      ]
     },
     "execution_count": 8,
     "metadata": {},
     "output_type": "execute_result"
    }
   ],
   "source": [
    "data['title'] = data['title'].fillna(data['content'])\n",
    "data['title'].isnull().sum()"
   ]
  },
  {
   "cell_type": "code",
   "execution_count": 9,
   "id": "b6788f46-d522-4135-8a6a-78be5e4f9f2c",
   "metadata": {},
   "outputs": [
    {
     "data": {
      "text/html": [
       "<div>\n",
       "<style scoped>\n",
       "    .dataframe tbody tr th:only-of-type {\n",
       "        vertical-align: middle;\n",
       "    }\n",
       "\n",
       "    .dataframe tbody tr th {\n",
       "        vertical-align: top;\n",
       "    }\n",
       "\n",
       "    .dataframe thead th {\n",
       "        text-align: right;\n",
       "    }\n",
       "</style>\n",
       "<table border=\"1\" class=\"dataframe\">\n",
       "  <thead>\n",
       "    <tr style=\"text-align: right;\">\n",
       "      <th></th>\n",
       "      <th>article_id</th>\n",
       "      <th>source_id</th>\n",
       "      <th>source_name</th>\n",
       "      <th>author</th>\n",
       "      <th>title</th>\n",
       "      <th>description</th>\n",
       "      <th>url</th>\n",
       "      <th>url_to_image</th>\n",
       "      <th>published_at</th>\n",
       "      <th>content</th>\n",
       "      <th>category</th>\n",
       "      <th>full_content</th>\n",
       "    </tr>\n",
       "  </thead>\n",
       "  <tbody>\n",
       "    <tr>\n",
       "      <th>1</th>\n",
       "      <td>89542</td>\n",
       "      <td>NaN</td>\n",
       "      <td>Prtimes.jp</td>\n",
       "      <td>NaN</td>\n",
       "      <td>RANDEBOOよりワンランク上の大人っぽさが漂うニットとベストが新登場。</td>\n",
       "      <td>[株式会社Ainer]\\nRANDEBOO（ランデブー）では2023年7月18日(火)より公...</td>\n",
       "      <td>https://prtimes.jp/main/html/rd/p/000000147.00...</td>\n",
       "      <td>https://prtimes.jp/i/32220/147/ogp/d32220-147-...</td>\n",
       "      <td>2023-10-06 04:40:02.000000</td>\n",
       "      <td>RANDEBOO2023718()WEB2023 Autumn Winter \\n\"Nepa...</td>\n",
       "      <td>Nepal</td>\n",
       "      <td>NaN</td>\n",
       "    </tr>\n",
       "    <tr>\n",
       "      <th>2</th>\n",
       "      <td>89543</td>\n",
       "      <td>NaN</td>\n",
       "      <td>VOA News</td>\n",
       "      <td>webdesk@voanews.com (Agence France-Presse)</td>\n",
       "      <td>UN Chief Urges World to 'Stop the Madness' of ...</td>\n",
       "      <td>UN Secretary-General Antonio Guterres urged th...</td>\n",
       "      <td>https://www.voanews.com/a/un-chief-urges-world...</td>\n",
       "      <td>https://gdb.voanews.com/01000000-0a00-0242-60f...</td>\n",
       "      <td>2023-10-30 10:53:30.000000</td>\n",
       "      <td>Kathmandu, Nepal  UN Secretary-General Antonio...</td>\n",
       "      <td>Nepal</td>\n",
       "      <td>NaN</td>\n",
       "    </tr>\n",
       "  </tbody>\n",
       "</table>\n",
       "</div>"
      ],
      "text/plain": [
       "   article_id source_id source_name  \\\n",
       "1       89542       NaN  Prtimes.jp   \n",
       "2       89543       NaN    VOA News   \n",
       "\n",
       "                                       author  \\\n",
       "1                                         NaN   \n",
       "2  webdesk@voanews.com (Agence France-Presse)   \n",
       "\n",
       "                                               title  \\\n",
       "1              RANDEBOOよりワンランク上の大人っぽさが漂うニットとベストが新登場。   \n",
       "2  UN Chief Urges World to 'Stop the Madness' of ...   \n",
       "\n",
       "                                         description  \\\n",
       "1  [株式会社Ainer]\\nRANDEBOO（ランデブー）では2023年7月18日(火)より公...   \n",
       "2  UN Secretary-General Antonio Guterres urged th...   \n",
       "\n",
       "                                                 url  \\\n",
       "1  https://prtimes.jp/main/html/rd/p/000000147.00...   \n",
       "2  https://www.voanews.com/a/un-chief-urges-world...   \n",
       "\n",
       "                                        url_to_image  \\\n",
       "1  https://prtimes.jp/i/32220/147/ogp/d32220-147-...   \n",
       "2  https://gdb.voanews.com/01000000-0a00-0242-60f...   \n",
       "\n",
       "                 published_at  \\\n",
       "1  2023-10-06 04:40:02.000000   \n",
       "2  2023-10-30 10:53:30.000000   \n",
       "\n",
       "                                             content category full_content  \n",
       "1  RANDEBOO2023718()WEB2023 Autumn Winter \\n\"Nepa...    Nepal          NaN  \n",
       "2  Kathmandu, Nepal  UN Secretary-General Antonio...    Nepal          NaN  "
      ]
     },
     "execution_count": 9,
     "metadata": {},
     "output_type": "execute_result"
    }
   ],
   "source": [
    "# Null values in content\n",
    "data[data['full_content'].isnull()].head(2)"
   ]
  },
  {
   "cell_type": "code",
   "execution_count": 10,
   "id": "66e6f02f-b40a-4317-9c85-989c00cd47c4",
   "metadata": {},
   "outputs": [
    {
     "data": {
      "text/plain": [
       "0"
      ]
     },
     "execution_count": 10,
     "metadata": {},
     "output_type": "execute_result"
    }
   ],
   "source": [
    "data['full_content'] = data['full_content'].fillna(data['content'])\n",
    "data['full_content'].isnull().sum()"
   ]
  },
  {
   "cell_type": "markdown",
   "id": "cc76788d-bf12-4cdb-ab89-b88273578de2",
   "metadata": {},
   "source": [
    "## Information Retrieval\n",
    "Return the most relevant documents from the natural query using **cosine similarity**"
   ]
  },
  {
   "cell_type": "code",
   "execution_count": 11,
   "id": "21272543-d538-4e6d-ab3d-dba0290b7796",
   "metadata": {},
   "outputs": [
    {
     "name": "stdout",
     "output_type": "stream",
     "text": [
      "CPU times: user 33.6 s, sys: 687 ms, total: 34.3 s\n",
      "Wall time: 31.5 s\n"
     ]
    }
   ],
   "source": [
    "%%time\n",
    "def search_articles(query, data, topn=5):\n",
    "    vectorizer = TfidfVectorizer(stop_words='english')\n",
    "    tfidf_matrix = vectorizer.fit_transform(data['full_content'])\n",
    "    query_vector = vectorizer.transform([query])\n",
    "    cosine_similarities = cosine_similarity(query_vector, tfidf_matrix).flatten()\n",
    "    article_indices = cosine_similarities.argsort()[::-1]\n",
    "    relevant_articles = data.iloc[article_indices][:topn]\n",
    "    return relevant_articles\n",
    "\n",
    "query = \"plant based diet options\"\n",
    "results = search_articles(query, data, 10)"
   ]
  },
  {
   "cell_type": "code",
   "execution_count": 13,
   "id": "e9f72097-dc4d-49ec-8d85-5e9becf44486",
   "metadata": {},
   "outputs": [
    {
     "data": {
      "text/html": [
       "<div>\n",
       "<style scoped>\n",
       "    .dataframe tbody tr th:only-of-type {\n",
       "        vertical-align: middle;\n",
       "    }\n",
       "\n",
       "    .dataframe tbody tr th {\n",
       "        vertical-align: top;\n",
       "    }\n",
       "\n",
       "    .dataframe thead th {\n",
       "        text-align: right;\n",
       "    }\n",
       "</style>\n",
       "<table border=\"1\" class=\"dataframe\">\n",
       "  <thead>\n",
       "    <tr style=\"text-align: right;\">\n",
       "      <th></th>\n",
       "      <th>article_id</th>\n",
       "      <th>source_id</th>\n",
       "      <th>source_name</th>\n",
       "      <th>author</th>\n",
       "      <th>title</th>\n",
       "      <th>description</th>\n",
       "      <th>url</th>\n",
       "      <th>url_to_image</th>\n",
       "      <th>published_at</th>\n",
       "      <th>content</th>\n",
       "      <th>category</th>\n",
       "      <th>full_content</th>\n",
       "    </tr>\n",
       "  </thead>\n",
       "  <tbody>\n",
       "    <tr>\n",
       "      <th>84445</th>\n",
       "      <td>390387</td>\n",
       "      <td>NaN</td>\n",
       "      <td>The Indian Express</td>\n",
       "      <td>IE Online</td>\n",
       "      <td>New superdiet to reduce bad cholesterol? How a...</td>\n",
       "      <td>Why portfolio diet has the potential to reduce...</td>\n",
       "      <td>https://indianexpress.com/article/health-welln...</td>\n",
       "      <td>https://images.indianexpress.com/2023/11/portf...</td>\n",
       "      <td>2023-11-16 12:06:14</td>\n",
       "      <td>Diet plays a crucial role in reducing choleste...</td>\n",
       "      <td>Health</td>\n",
       "      <td>Written by By Dr Pradeep Haranahalli Diet play...</td>\n",
       "    </tr>\n",
       "    <tr>\n",
       "      <th>31601</th>\n",
       "      <td>35822</td>\n",
       "      <td>NaN</td>\n",
       "      <td>Wealthofgeeks.com</td>\n",
       "      <td>Alison Corey</td>\n",
       "      <td>Health Benefits of Eating Vegan Once a Week</td>\n",
       "      <td>Eating a plant-based diet has become increasin...</td>\n",
       "      <td>https://wealthofgeeks.com/eating-vegan-once-a-...</td>\n",
       "      <td>https://wealthofgeeks.com/wp-content/uploads/2...</td>\n",
       "      <td>2023-10-31 10:48:56.000000</td>\n",
       "      <td>Eating a plant-based diet has become increasin...</td>\n",
       "      <td>Vegan</td>\n",
       "      <td>Eating a plant-based diet has become increasin...</td>\n",
       "    </tr>\n",
       "    <tr>\n",
       "      <th>31460</th>\n",
       "      <td>35625</td>\n",
       "      <td>NaN</td>\n",
       "      <td>Erickimphotography.com</td>\n",
       "      <td>ERIC KIM</td>\n",
       "      <td>Food is Fashion</td>\n",
       "      <td>Thus the idea— being vegan or eating a “plant ...</td>\n",
       "      <td>https://erickimphotography.com/blog/2023/10/31...</td>\n",
       "      <td>NaN</td>\n",
       "      <td>2023-11-01 03:12:43.000000</td>\n",
       "      <td>Thus the idea being vegan or eating a plant ba...</td>\n",
       "      <td>Vegan</td>\n",
       "      <td>Thus the idea being vegan or eating a plant ba...</td>\n",
       "    </tr>\n",
       "  </tbody>\n",
       "</table>\n",
       "</div>"
      ],
      "text/plain": [
       "       article_id source_id             source_name        author  \\\n",
       "84445      390387       NaN      The Indian Express     IE Online   \n",
       "31601       35822       NaN       Wealthofgeeks.com  Alison Corey   \n",
       "31460       35625       NaN  Erickimphotography.com      ERIC KIM   \n",
       "\n",
       "                                                   title  \\\n",
       "84445  New superdiet to reduce bad cholesterol? How a...   \n",
       "31601        Health Benefits of Eating Vegan Once a Week   \n",
       "31460                                    Food is Fashion   \n",
       "\n",
       "                                             description  \\\n",
       "84445  Why portfolio diet has the potential to reduce...   \n",
       "31601  Eating a plant-based diet has become increasin...   \n",
       "31460  Thus the idea— being vegan or eating a “plant ...   \n",
       "\n",
       "                                                     url  \\\n",
       "84445  https://indianexpress.com/article/health-welln...   \n",
       "31601  https://wealthofgeeks.com/eating-vegan-once-a-...   \n",
       "31460  https://erickimphotography.com/blog/2023/10/31...   \n",
       "\n",
       "                                            url_to_image  \\\n",
       "84445  https://images.indianexpress.com/2023/11/portf...   \n",
       "31601  https://wealthofgeeks.com/wp-content/uploads/2...   \n",
       "31460                                                NaN   \n",
       "\n",
       "                     published_at  \\\n",
       "84445         2023-11-16 12:06:14   \n",
       "31601  2023-10-31 10:48:56.000000   \n",
       "31460  2023-11-01 03:12:43.000000   \n",
       "\n",
       "                                                 content category  \\\n",
       "84445  Diet plays a crucial role in reducing choleste...   Health   \n",
       "31601  Eating a plant-based diet has become increasin...    Vegan   \n",
       "31460  Thus the idea being vegan or eating a plant ba...    Vegan   \n",
       "\n",
       "                                            full_content  \n",
       "84445  Written by By Dr Pradeep Haranahalli Diet play...  \n",
       "31601  Eating a plant-based diet has become increasin...  \n",
       "31460  Thus the idea being vegan or eating a plant ba...  "
      ]
     },
     "execution_count": 13,
     "metadata": {},
     "output_type": "execute_result"
    }
   ],
   "source": [
    "results.head(3)"
   ]
  },
  {
   "cell_type": "markdown",
   "id": "a0ca90f3-def7-45ab-ba56-da705bea442c",
   "metadata": {},
   "source": [
    "### Top Article"
   ]
  },
  {
   "cell_type": "code",
   "execution_count": 14,
   "id": "ac5cada7-42f7-499f-a9f5-ce7f9d49416a",
   "metadata": {},
   "outputs": [
    {
     "name": "stdout",
     "output_type": "stream",
     "text": [
      "NEW SUPERDIET TO REDUCE BAD CHOLESTEROL? HOW AVOCADO, NUTS, AND LEGUMES COULD LOWER YOUR HEART DISEASE RISK\n",
      "-----------------------------------------------------------------------------------------------------------\n",
      "Written by By Dr Pradeep Haranahalli Diet plays a crucial role in reducing cholesterol levels. Hence, when we talk about lowering cholesterol, the first therapeutic measure is a therapeutic lifestyle change that includes exercise and diet, followed by medications if the lifestyle changes do not work. The American Heart Association suggests ten lipid-lowering or heart-healthy diets. Among these, the top three are the Mediterranean diet—abundant in vegetables, fruits, whole grains, beans, nuts, and seeds; the DASH diet—emphasizing potassium, calcium, magnesium, fiber, and protein while minimizing saturated fat; and the Pescetarian diet, notable for its emphasis on seafood. Very recently, the nurses’ health study and the Heart Protection Study have put forward the portfolio diet based on the results of a trial study involving about one lakh thirty thousand participants. What is a portfolio diet? The portfolio diet is unique compared to the other diets. It focuses on what people can add to their diet instead of putting limits on specific foods. Portfolio diet mainly focuses on plant-based protein derived from soy or legumes, fiber from products like okra or eggplant, and lots of nuts, soluble fibers, and plant sterols. What is the advantage of the portfolio diet? Cardiovascular diseases, especially atherosclerotic vascular disease, are strongly associated with cholesterol levels in the body. Several studies have established that high cholesterol levels lead to increased incidence of blockages in the blood supply, leading to heart attacks and strokes The portfolio diet effectively reduces the LDL cholesterol —the principal cause of atherosclerotic plaques in the blood vessels —and increases HDL cholesterol levels and fiber intake. However, the diet does not strictly contraindicate poultry and fish but recommends including it in small quantities. The trial study results state that the portfolio diet showed a 14 percent reduction in cardiovascular death (a composite of heart attacks and strokes). People following a vegetarian or vegan diet can also benefit from this diet. The diet has long-term benefits. The trial study has established this after following the participants for thirty years. What can you eat in a portfolio diet? A typical portfolio diet recommends per day intake of 42 grams of nuts, 50 grams of plant- based proteins from soy products, beans, peas, or lentils, 20 grams of soluble viscous fiber from vegetables and grains, and fruit including oats, barley, eggplant, okra, oranges and apples and 2 grams per day of phytosterols from either a supplement or from avocado.\n",
      "https://indianexpress.com/article/health-wellness/superdiet-reduce-bad-cholesterol-avocado-nuts-legumes-lower-heart-disease-9029413/\n"
     ]
    }
   ],
   "source": [
    "title = results.iloc[0].title\n",
    "content = results.iloc[0].full_content\n",
    "url = results.iloc[0].url\n",
    "print(title.upper(), '-'*len(title), content, url, sep=\"\\n\")"
   ]
  },
  {
   "cell_type": "markdown",
   "id": "91b73949-208e-4660-85af-98eb88a951dd",
   "metadata": {},
   "source": [
    "## Text Summarization"
   ]
  },
  {
   "cell_type": "code",
   "execution_count": 3,
   "id": "bd6975de-7d1e-446c-ba8e-1a1669b35a1c",
   "metadata": {},
   "outputs": [
    {
     "data": {
      "application/vnd.jupyter.widget-view+json": {
       "model_id": "9ec70cd04e4f47729609aba28a4eb044",
       "version_major": 2,
       "version_minor": 0
      },
      "text/plain": [
       "tokenizer_config.json:   0%|          | 0.00/2.32k [00:00<?, ?B/s]"
      ]
     },
     "metadata": {},
     "output_type": "display_data"
    },
    {
     "data": {
      "application/vnd.jupyter.widget-view+json": {
       "model_id": "c5a474f8c3bc44b08e975da7361fee4b",
       "version_major": 2,
       "version_minor": 0
      },
      "text/plain": [
       "spiece.model:   0%|          | 0.00/792k [00:00<?, ?B/s]"
      ]
     },
     "metadata": {},
     "output_type": "display_data"
    },
    {
     "data": {
      "application/vnd.jupyter.widget-view+json": {
       "model_id": "c3a8d274d6c14f7a8dfeb19d1fea0a54",
       "version_major": 2,
       "version_minor": 0
      },
      "text/plain": [
       "tokenizer.json:   0%|          | 0.00/2.42M [00:00<?, ?B/s]"
      ]
     },
     "metadata": {},
     "output_type": "display_data"
    },
    {
     "data": {
      "application/vnd.jupyter.widget-view+json": {
       "model_id": "cb9786733ee14c42bfb40f97ce998da6",
       "version_major": 2,
       "version_minor": 0
      },
      "text/plain": [
       "special_tokens_map.json:   0%|          | 0.00/2.20k [00:00<?, ?B/s]"
      ]
     },
     "metadata": {},
     "output_type": "display_data"
    },
    {
     "data": {
      "application/vnd.jupyter.widget-view+json": {
       "model_id": "71caf893770c4695a4855e54f2f53f44",
       "version_major": 2,
       "version_minor": 0
      },
      "text/plain": [
       "config.json:   0%|          | 0.00/1.49k [00:00<?, ?B/s]"
      ]
     },
     "metadata": {},
     "output_type": "display_data"
    },
    {
     "data": {
      "application/vnd.jupyter.widget-view+json": {
       "model_id": "0a28b0bb763746cd8d9300ec0e55dadc",
       "version_major": 2,
       "version_minor": 0
      },
      "text/plain": [
       "model.safetensors:   0%|          | 0.00/242M [00:00<?, ?B/s]"
      ]
     },
     "metadata": {},
     "output_type": "display_data"
    },
    {
     "name": "stderr",
     "output_type": "stream",
     "text": [
      "All PyTorch model weights were used when initializing TFT5ForConditionalGeneration.\n",
      "\n",
      "All the weights of TFT5ForConditionalGeneration were initialized from the PyTorch model.\n",
      "If your task is similar to the task the model of the checkpoint was trained on, you can already use TFT5ForConditionalGeneration for predictions without further training.\n"
     ]
    }
   ],
   "source": [
    "tokenizer = AutoTokenizer.from_pretrained(\"Falconsai/text_summarization\")\n",
    "summarizer = pipeline(\"summarization\", model=\"Falconsai/text_summarization\", tokenizer=tokenizer)\n"
   ]
  },
  {
   "cell_type": "code",
   "execution_count": 15,
   "id": "1197b90c-544f-4fdb-989a-cc4d370fd65b",
   "metadata": {},
   "outputs": [
    {
     "name": "stdout",
     "output_type": "stream",
     "text": [
      "Summarizing Chunk (1/7)\n"
     ]
    },
    {
     "name": "stderr",
     "output_type": "stream",
     "text": [
      "2024-02-19 01:01:50.330643: I external/local_xla/xla/service/service.cc:168] XLA service 0x55942c8962e0 initialized for platform Host (this does not guarantee that XLA will be used). Devices:\n",
      "2024-02-19 01:01:50.330776: I external/local_xla/xla/service/service.cc:176]   StreamExecutor device (0): Host, Default Version\n",
      "2024-02-19 01:01:50.847713: I tensorflow/compiler/mlir/tensorflow/utils/dump_mlir_util.cc:269] disabling MLIR crash reproducer, set env var `MLIR_CRASH_REPRODUCER_DIRECTORY` to enable.\n",
      "WARNING: All log messages before absl::InitializeLog() is called are written to STDERR\n",
      "I0000 00:00:1708333312.295959 1641679 device_compiler.h:186] Compiled cluster using XLA!  This line is logged at most once for the lifetime of the process.\n",
      "2024-02-19 01:01:52.297444: E external/local_xla/xla/stream_executor/stream_executor_internal.h:177] SetPriority unimplemented for this stream.\n"
     ]
    },
    {
     "name": "stdout",
     "output_type": "stream",
     "text": [
      "Summarizing Chunk (2/7)\n",
      "Summarizing Chunk (3/7)\n"
     ]
    },
    {
     "name": "stderr",
     "output_type": "stream",
     "text": [
      "Your max_length is set to 50, but your input_length is only 36. Since this is a summarization task, where outputs shorter than the input are typically wanted, you might consider decreasing max_length manually, e.g. summarizer('...', max_length=18)\n"
     ]
    },
    {
     "name": "stdout",
     "output_type": "stream",
     "text": [
      "Summarizing Chunk (4/7)\n",
      "Summarizing Chunk (5/7)\n",
      "Summarizing Chunk (6/7)\n",
      "Summarizing Chunk (7/7)\n",
      "CPU times: user 1min 8s, sys: 11.2 s, total: 1min 19s\n",
      "Wall time: 1min 1s\n"
     ]
    }
   ],
   "source": [
    "%%time\n",
    "#tokenizer = AutoTokenizer.from_pretrained(\"./text_summarization\")\n",
    "#summarizer = pipeline(\"summarization\", model=\"./text_summarization\", tokenizer=tokenizer)\n",
    "max_seq_length = 512\n",
    "chunks = [\"\"]\n",
    "sentences = content.split('. ')\n",
    "for sentance in sentences:\n",
    "    chunk_size = len(chunks[-1])\n",
    "    if chunk_size <= max_seq_length:\n",
    "        if len(sentance)+chunk_size <= max_seq_length:\n",
    "            chunks[-1] += sentance + \". \"\n",
    "        else:\n",
    "            chunks.append(sentance)\n",
    "\n",
    "summaries = []\n",
    "for i, chunk in enumerate(chunks):\n",
    "    print(\"Summarizing Chunk (\",i+1,\"/\",len(chunks),\")\", sep=\"\")\n",
    "    summary = summarizer(chunk, max_length=50, min_length=30, do_sample=False)\n",
    "    summaries.append(summary[0]['summary_text'])"
   ]
  },
  {
   "cell_type": "code",
   "execution_count": 16,
   "id": "9159b17f-aa37-49cf-b1a5-3efddbfa92e7",
   "metadata": {},
   "outputs": [
    {
     "name": "stdout",
     "output_type": "stream",
     "text": [
      "QUERY: Plant based diet options \n",
      "\n",
      "OUTPUT:\n",
      "The American Heart Association suggests ten lipid-lowering diets.  The first therapeutic measure is exercise and diet, followed by medications if the lifestyle changes do not work. the nurses’ health study and the Heart Protection Study have put forward the portfolio diet based on the results of a trial study involving about one lakh thirty thousand participants. Portfolio diet focuses on protein derived from soy or legumes, fiber from products like okra or eggplant, nuts, soluble fibers, and plant sterols. Cardiovascular diseases, especially atherosclerotic vascular disease, are strongly associated with cholesterol levels in the body.  What is the advantage of the portfolio diet?high cholesterol levels lead to increased incidence of blockages in the blood supply, leading to heart attacks and strokes The portfolio diet effectively reduces the LDL cholesterol. The portfolio diet showed a 14 percent reduction in cardiovascular death (a composite of heart attacks and strokes) People following a vegetarian or vegan diet can also benefit from this diet. A typical portfolio diet recommends per day intake of 42 grams of nuts, 50 grams of plant- based proteins from soy products, beans, peas, or lentils, 20 grams of soluble viscous fiber from vegetables\n",
      "\n",
      "Read the full article:\n",
      "https://indianexpress.com/article/health-wellness/superdiet-reduce-bad-cholesterol-avocado-nuts-legumes-lower-heart-disease-9029413/\n"
     ]
    }
   ],
   "source": [
    "out = \". \".join(\"\".join(summaries).split(\" .\"))\n",
    "print(\"QUERY:\", query.capitalize(), \"\\n\")\n",
    "print(\"OUTPUT:\", out, sep=\"\\n\")\n",
    "print(\"\\nRead the full article:\", url, sep='\\n')"
   ]
  },
  {
   "cell_type": "markdown",
   "id": "17e15892-50b2-4065-a390-11068f491cae",
   "metadata": {},
   "source": [
    "## Keyword Extraction"
   ]
  },
  {
   "cell_type": "code",
   "execution_count": 17,
   "id": "1c9f4ea5-bebf-4c53-9f82-b3a616fc36e1",
   "metadata": {},
   "outputs": [
    {
     "name": "stdout",
     "output_type": "stream",
     "text": [
      "CPU times: user 9.45 ms, sys: 8.4 ms, total: 17.8 ms\n",
      "Wall time: 96 ms\n"
     ]
    },
    {
     "data": {
      "text/plain": [
       "['diet', 'portfolio', 'heart', 'cholesterol', 'grams', 'study']"
      ]
     },
     "execution_count": 17,
     "metadata": {},
     "output_type": "execute_result"
    }
   ],
   "source": [
    "%%time\n",
    "def extract_keywords(document, topn=5):\n",
    "    vectorizer = TfidfVectorizer(stop_words='english')\n",
    "    tfidf_matrix = vectorizer.fit_transform([document])\n",
    "    feature_names = vectorizer.get_feature_names_out()\n",
    "    word_scores = [(feature_names[i], tfidf_matrix[0, i]) for i in range(tfidf_matrix.shape[1])]\n",
    "    word_scores_sorted = sorted(word_scores, key=lambda x: x[1], reverse=True)\n",
    "    top_keywords = [word for word, score in word_scores_sorted[:topn]]\n",
    "    return top_keywords\n",
    "\n",
    "keywords = extract_keywords(out, 6)\n",
    "keywords"
   ]
  },
  {
   "cell_type": "markdown",
   "id": "8797d7c2-3df3-4d57-a927-253c403c9c5a",
   "metadata": {},
   "source": [
    "### Keywords related articles"
   ]
  },
  {
   "cell_type": "code",
   "execution_count": 18,
   "id": "6fa3e1c9-6461-4402-a5a9-f488022cd4e7",
   "metadata": {},
   "outputs": [
    {
     "name": "stdout",
     "output_type": "stream",
     "text": [
      "CPU times: user 33.7 s, sys: 738 ms, total: 34.4 s\n",
      "Wall time: 31.7 s\n"
     ]
    }
   ],
   "source": [
    "%%time\n",
    "query = \" \".join(keywords)\n",
    "results = search_articles(query, data, 10)"
   ]
  },
  {
   "cell_type": "code",
   "execution_count": 19,
   "id": "9326945e-37d0-4191-aff8-e092833392dd",
   "metadata": {},
   "outputs": [
    {
     "data": {
      "text/html": [
       "<div>\n",
       "<style scoped>\n",
       "    .dataframe tbody tr th:only-of-type {\n",
       "        vertical-align: middle;\n",
       "    }\n",
       "\n",
       "    .dataframe tbody tr th {\n",
       "        vertical-align: top;\n",
       "    }\n",
       "\n",
       "    .dataframe thead th {\n",
       "        text-align: right;\n",
       "    }\n",
       "</style>\n",
       "<table border=\"1\" class=\"dataframe\">\n",
       "  <thead>\n",
       "    <tr style=\"text-align: right;\">\n",
       "      <th></th>\n",
       "      <th>article_id</th>\n",
       "      <th>source_id</th>\n",
       "      <th>source_name</th>\n",
       "      <th>author</th>\n",
       "      <th>title</th>\n",
       "      <th>description</th>\n",
       "      <th>url</th>\n",
       "      <th>url_to_image</th>\n",
       "      <th>published_at</th>\n",
       "      <th>content</th>\n",
       "      <th>category</th>\n",
       "      <th>full_content</th>\n",
       "    </tr>\n",
       "  </thead>\n",
       "  <tbody>\n",
       "    <tr>\n",
       "      <th>84445</th>\n",
       "      <td>390387</td>\n",
       "      <td>NaN</td>\n",
       "      <td>The Indian Express</td>\n",
       "      <td>IE Online</td>\n",
       "      <td>New superdiet to reduce bad cholesterol? How a...</td>\n",
       "      <td>Why portfolio diet has the potential to reduce...</td>\n",
       "      <td>https://indianexpress.com/article/health-welln...</td>\n",
       "      <td>https://images.indianexpress.com/2023/11/portf...</td>\n",
       "      <td>2023-11-16 12:06:14</td>\n",
       "      <td>Diet plays a crucial role in reducing choleste...</td>\n",
       "      <td>Health</td>\n",
       "      <td>Written by By Dr Pradeep Haranahalli Diet play...</td>\n",
       "    </tr>\n",
       "    <tr>\n",
       "      <th>79455</th>\n",
       "      <td>39223</td>\n",
       "      <td>NaN</td>\n",
       "      <td>Spring.org.uk</td>\n",
       "      <td>Mina Dean</td>\n",
       "      <td>The Common Nut That Lowers Cholesterol Levels</td>\n",
       "      <td>HDL cholesterol, known as \"good\" cholesterol, ...</td>\n",
       "      <td>https://www.spring.org.uk/?p=97971</td>\n",
       "      <td>https://www.spring.org.uk/images/nuts-1.jpg</td>\n",
       "      <td>2023-10-15 13:00:28.000000</td>\n",
       "      <td>HDL cholesterol, known as “good” cholesterol, ...</td>\n",
       "      <td>Nutrition</td>\n",
       "      <td>HDL cholesterol, known as “good” cholesterol, ...</td>\n",
       "    </tr>\n",
       "    <tr>\n",
       "      <th>80155</th>\n",
       "      <td>326870</td>\n",
       "      <td>wired</td>\n",
       "      <td>Wired</td>\n",
       "      <td>Emily Mullin</td>\n",
       "      <td>A Single Infusion of a Gene-Editing Treatment ...</td>\n",
       "      <td>It’s still early days for a novel form of gene...</td>\n",
       "      <td>https://www.wired.com/story/a-single-infusion-...</td>\n",
       "      <td>https://media.wired.com/photos/6552b2a81dc6437...</td>\n",
       "      <td>2023-11-14 13:00:00</td>\n",
       "      <td>In a small initial test in people, researchers...</td>\n",
       "      <td>News</td>\n",
       "      <td>In a small initial test in people, researchers...</td>\n",
       "    </tr>\n",
       "  </tbody>\n",
       "</table>\n",
       "</div>"
      ],
      "text/plain": [
       "       article_id source_id         source_name        author  \\\n",
       "84445      390387       NaN  The Indian Express     IE Online   \n",
       "79455       39223       NaN       Spring.org.uk     Mina Dean   \n",
       "80155      326870     wired               Wired  Emily Mullin   \n",
       "\n",
       "                                                   title  \\\n",
       "84445  New superdiet to reduce bad cholesterol? How a...   \n",
       "79455      The Common Nut That Lowers Cholesterol Levels   \n",
       "80155  A Single Infusion of a Gene-Editing Treatment ...   \n",
       "\n",
       "                                             description  \\\n",
       "84445  Why portfolio diet has the potential to reduce...   \n",
       "79455  HDL cholesterol, known as \"good\" cholesterol, ...   \n",
       "80155  It’s still early days for a novel form of gene...   \n",
       "\n",
       "                                                     url  \\\n",
       "84445  https://indianexpress.com/article/health-welln...   \n",
       "79455                 https://www.spring.org.uk/?p=97971   \n",
       "80155  https://www.wired.com/story/a-single-infusion-...   \n",
       "\n",
       "                                            url_to_image  \\\n",
       "84445  https://images.indianexpress.com/2023/11/portf...   \n",
       "79455        https://www.spring.org.uk/images/nuts-1.jpg   \n",
       "80155  https://media.wired.com/photos/6552b2a81dc6437...   \n",
       "\n",
       "                     published_at  \\\n",
       "84445         2023-11-16 12:06:14   \n",
       "79455  2023-10-15 13:00:28.000000   \n",
       "80155         2023-11-14 13:00:00   \n",
       "\n",
       "                                                 content   category  \\\n",
       "84445  Diet plays a crucial role in reducing choleste...     Health   \n",
       "79455  HDL cholesterol, known as “good” cholesterol, ...  Nutrition   \n",
       "80155  In a small initial test in people, researchers...       News   \n",
       "\n",
       "                                            full_content  \n",
       "84445  Written by By Dr Pradeep Haranahalli Diet play...  \n",
       "79455  HDL cholesterol, known as “good” cholesterol, ...  \n",
       "80155  In a small initial test in people, researchers...  "
      ]
     },
     "execution_count": 19,
     "metadata": {},
     "output_type": "execute_result"
    }
   ],
   "source": [
    "results.head(3)"
   ]
  },
  {
   "cell_type": "markdown",
   "id": "4d74f79f-68de-445f-bb69-c387eb231456",
   "metadata": {},
   "source": [
    "## User Interface / User Experience Design\n",
    "![](https://raw.githubusercontent.com/data-overflow/article-summarization/main/imgs/UI.png?token=GHSAT0AAAAAACOKDHDHIA3PIWC6KXIZ7IAKZO2YKZA)\n"
   ]
  },
  {
   "cell_type": "code",
   "execution_count": null,
   "id": "7b934196-525b-450a-b96a-e7de17aa5da9",
   "metadata": {},
   "outputs": [],
   "source": []
  }
 ],
 "metadata": {
  "kernelspec": {
   "display_name": "Python 3 (Intel® oneAPI 2024)",
   "language": "python",
   "name": "c009-intel_distribution_of_python_3_oneapi-beta05-python-2024"
  },
  "language_info": {
   "codemirror_mode": {
    "name": "ipython",
    "version": 3
   },
   "file_extension": ".py",
   "mimetype": "text/x-python",
   "name": "python",
   "nbconvert_exporter": "python",
   "pygments_lexer": "ipython3",
   "version": "3.9.18"
  }
 },
 "nbformat": 4,
 "nbformat_minor": 5
}
