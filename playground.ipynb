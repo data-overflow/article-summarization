{
 "cells": [
  {
   "cell_type": "markdown",
   "metadata": {},
   "source": [
    "# Global Article Summarization and Link Analysis\n",
    "### Loading the required modules"
   ]
  },
  {
   "cell_type": "code",
   "execution_count": 2,
   "metadata": {},
   "outputs": [],
   "source": [
    "import pandas as pd\n",
    "import numpy as np\n",
    "from sklearn.feature_extraction.text import TfidfVectorizer\n",
    "from sklearn.metrics.pairwise import cosine_similarity\n",
    "from transformers import pipeline"
   ]
  },
  {
   "cell_type": "markdown",
   "metadata": {},
   "source": [
    "### Preparing the dataset"
   ]
  },
  {
   "cell_type": "code",
   "execution_count": 3,
   "metadata": {},
   "outputs": [
    {
     "data": {
      "text/html": [
       "<div>\n",
       "<style scoped>\n",
       "    .dataframe tbody tr th:only-of-type {\n",
       "        vertical-align: middle;\n",
       "    }\n",
       "\n",
       "    .dataframe tbody tr th {\n",
       "        vertical-align: top;\n",
       "    }\n",
       "\n",
       "    .dataframe thead th {\n",
       "        text-align: right;\n",
       "    }\n",
       "</style>\n",
       "<table border=\"1\" class=\"dataframe\">\n",
       "  <thead>\n",
       "    <tr style=\"text-align: right;\">\n",
       "      <th></th>\n",
       "      <th>article_id</th>\n",
       "      <th>source_id</th>\n",
       "      <th>source_name</th>\n",
       "      <th>author</th>\n",
       "      <th>title</th>\n",
       "      <th>description</th>\n",
       "      <th>url</th>\n",
       "      <th>url_to_image</th>\n",
       "      <th>published_at</th>\n",
       "      <th>content</th>\n",
       "      <th>category</th>\n",
       "      <th>full_content</th>\n",
       "    </tr>\n",
       "  </thead>\n",
       "  <tbody>\n",
       "    <tr>\n",
       "      <th>0</th>\n",
       "      <td>89541</td>\n",
       "      <td>NaN</td>\n",
       "      <td>International Business Times</td>\n",
       "      <td>Paavan MATHEMA</td>\n",
       "      <td>UN Chief Urges World To 'Stop The Madness' Of ...</td>\n",
       "      <td>UN Secretary-General Antonio Guterres urged th...</td>\n",
       "      <td>https://www.ibtimes.com/un-chief-urges-world-s...</td>\n",
       "      <td>https://d.ibtimes.com/en/full/4496078/nepals-g...</td>\n",
       "      <td>2023-10-30 10:12:35.000000</td>\n",
       "      <td>UN Secretary-General Antonio Guterres urged th...</td>\n",
       "      <td>Nepal</td>\n",
       "      <td>UN Secretary-General Antonio Guterres urged th...</td>\n",
       "    </tr>\n",
       "    <tr>\n",
       "      <th>1</th>\n",
       "      <td>89542</td>\n",
       "      <td>NaN</td>\n",
       "      <td>Prtimes.jp</td>\n",
       "      <td>NaN</td>\n",
       "      <td>RANDEBOOよりワンランク上の大人っぽさが漂うニットとベストが新登場。</td>\n",
       "      <td>[株式会社Ainer]\\nRANDEBOO（ランデブー）では2023年7月18日(火)より公...</td>\n",
       "      <td>https://prtimes.jp/main/html/rd/p/000000147.00...</td>\n",
       "      <td>https://prtimes.jp/i/32220/147/ogp/d32220-147-...</td>\n",
       "      <td>2023-10-06 04:40:02.000000</td>\n",
       "      <td>RANDEBOO2023718()WEB2023 Autumn Winter \\n\"Nepa...</td>\n",
       "      <td>Nepal</td>\n",
       "      <td>NaN</td>\n",
       "    </tr>\n",
       "    <tr>\n",
       "      <th>2</th>\n",
       "      <td>89543</td>\n",
       "      <td>NaN</td>\n",
       "      <td>VOA News</td>\n",
       "      <td>webdesk@voanews.com (Agence France-Presse)</td>\n",
       "      <td>UN Chief Urges World to 'Stop the Madness' of ...</td>\n",
       "      <td>UN Secretary-General Antonio Guterres urged th...</td>\n",
       "      <td>https://www.voanews.com/a/un-chief-urges-world...</td>\n",
       "      <td>https://gdb.voanews.com/01000000-0a00-0242-60f...</td>\n",
       "      <td>2023-10-30 10:53:30.000000</td>\n",
       "      <td>Kathmandu, Nepal  UN Secretary-General Antonio...</td>\n",
       "      <td>Nepal</td>\n",
       "      <td>NaN</td>\n",
       "    </tr>\n",
       "  </tbody>\n",
       "</table>\n",
       "</div>"
      ],
      "text/plain": [
       "   article_id source_id                   source_name  \\\n",
       "0       89541       NaN  International Business Times   \n",
       "1       89542       NaN                    Prtimes.jp   \n",
       "2       89543       NaN                      VOA News   \n",
       "\n",
       "                                       author  \\\n",
       "0                              Paavan MATHEMA   \n",
       "1                                         NaN   \n",
       "2  webdesk@voanews.com (Agence France-Presse)   \n",
       "\n",
       "                                               title  \\\n",
       "0  UN Chief Urges World To 'Stop The Madness' Of ...   \n",
       "1              RANDEBOOよりワンランク上の大人っぽさが漂うニットとベストが新登場。   \n",
       "2  UN Chief Urges World to 'Stop the Madness' of ...   \n",
       "\n",
       "                                         description  \\\n",
       "0  UN Secretary-General Antonio Guterres urged th...   \n",
       "1  [株式会社Ainer]\\nRANDEBOO（ランデブー）では2023年7月18日(火)より公...   \n",
       "2  UN Secretary-General Antonio Guterres urged th...   \n",
       "\n",
       "                                                 url  \\\n",
       "0  https://www.ibtimes.com/un-chief-urges-world-s...   \n",
       "1  https://prtimes.jp/main/html/rd/p/000000147.00...   \n",
       "2  https://www.voanews.com/a/un-chief-urges-world...   \n",
       "\n",
       "                                        url_to_image  \\\n",
       "0  https://d.ibtimes.com/en/full/4496078/nepals-g...   \n",
       "1  https://prtimes.jp/i/32220/147/ogp/d32220-147-...   \n",
       "2  https://gdb.voanews.com/01000000-0a00-0242-60f...   \n",
       "\n",
       "                 published_at  \\\n",
       "0  2023-10-30 10:12:35.000000   \n",
       "1  2023-10-06 04:40:02.000000   \n",
       "2  2023-10-30 10:53:30.000000   \n",
       "\n",
       "                                             content category  \\\n",
       "0  UN Secretary-General Antonio Guterres urged th...    Nepal   \n",
       "1  RANDEBOO2023718()WEB2023 Autumn Winter \\n\"Nepa...    Nepal   \n",
       "2  Kathmandu, Nepal  UN Secretary-General Antonio...    Nepal   \n",
       "\n",
       "                                        full_content  \n",
       "0  UN Secretary-General Antonio Guterres urged th...  \n",
       "1                                                NaN  \n",
       "2                                                NaN  "
      ]
     },
     "execution_count": 3,
     "metadata": {},
     "output_type": "execute_result"
    }
   ],
   "source": [
    "data = pd.read_csv(\"./data.csv\")\n",
    "data.head(3)"
   ]
  },
  {
   "cell_type": "code",
   "execution_count": 4,
   "metadata": {},
   "outputs": [
    {
     "data": {
      "text/html": [
       "<div>\n",
       "<style scoped>\n",
       "    .dataframe tbody tr th:only-of-type {\n",
       "        vertical-align: middle;\n",
       "    }\n",
       "\n",
       "    .dataframe tbody tr th {\n",
       "        vertical-align: top;\n",
       "    }\n",
       "\n",
       "    .dataframe thead th {\n",
       "        text-align: right;\n",
       "    }\n",
       "</style>\n",
       "<table border=\"1\" class=\"dataframe\">\n",
       "  <thead>\n",
       "    <tr style=\"text-align: right;\">\n",
       "      <th></th>\n",
       "      <th>article_id</th>\n",
       "      <th>source_id</th>\n",
       "      <th>source_name</th>\n",
       "      <th>author</th>\n",
       "      <th>title</th>\n",
       "      <th>description</th>\n",
       "      <th>url</th>\n",
       "      <th>url_to_image</th>\n",
       "      <th>published_at</th>\n",
       "      <th>content</th>\n",
       "      <th>category</th>\n",
       "      <th>full_content</th>\n",
       "    </tr>\n",
       "  </thead>\n",
       "  <tbody>\n",
       "    <tr>\n",
       "      <th>105372</th>\n",
       "      <td>781235</td>\n",
       "      <td>NaN</td>\n",
       "      <td>NPR</td>\n",
       "      <td>Brigid McCarthy</td>\n",
       "      <td>Three hospitals ignored her gravely ill fiancé...</td>\n",
       "      <td>Forty years ago, Sarah Lubarsky came home from...</td>\n",
       "      <td>https://www.npr.org/2023/11/29/1215016001/heal...</td>\n",
       "      <td>https://media.npr.org/assets/img/2023/11/23/sa...</td>\n",
       "      <td>2023-11-29 10:01:12</td>\n",
       "      <td>The photo from David and Sarah Lubarsky's wedd...</td>\n",
       "      <td>Home</td>\n",
       "      <td>The photo from David and Sarah Lubarsky's wedd...</td>\n",
       "    </tr>\n",
       "    <tr>\n",
       "      <th>105373</th>\n",
       "      <td>781240</td>\n",
       "      <td>NaN</td>\n",
       "      <td>Forbes</td>\n",
       "      <td>Gary Stern, Contributor, \\n Gary Stern, Contri...</td>\n",
       "      <td>Kerber’s Farm: Bringing Farm To Table To Manha...</td>\n",
       "      <td>A farmstand in Long Island, Kerber’s Farms has...</td>\n",
       "      <td>https://www.forbes.com/sites/garystern/2023/11...</td>\n",
       "      <td>https://imageio.forbes.com/specials-images/ima...</td>\n",
       "      <td>2023-11-29 13:44:33</td>\n",
       "      <td>Kerbers Farm: Bringing Farm To Table To Manhat...</td>\n",
       "      <td>Home</td>\n",
       "      <td>Kerber’s Farm: Bringing Farm To Table To Manha...</td>\n",
       "    </tr>\n",
       "    <tr>\n",
       "      <th>105374</th>\n",
       "      <td>781308</td>\n",
       "      <td>NaN</td>\n",
       "      <td>Forbes</td>\n",
       "      <td>Johan Hajji, Forbes Councils Member, \\n Johan ...</td>\n",
       "      <td>Tips For Investing In Short-Term Rentals In Dubai</td>\n",
       "      <td>By exploring your options and keeping a few be...</td>\n",
       "      <td>https://www.forbes.com/sites/forbesbusinesscou...</td>\n",
       "      <td>https://imageio.forbes.com/specials-images/ima...</td>\n",
       "      <td>2023-11-29 14:00:00</td>\n",
       "      <td>Cofounder at UpperKey. Passionate about proper...</td>\n",
       "      <td>Home</td>\n",
       "      <td>Cofounder at UpperKey. Passionate about proper...</td>\n",
       "    </tr>\n",
       "  </tbody>\n",
       "</table>\n",
       "</div>"
      ],
      "text/plain": [
       "        article_id source_id source_name  \\\n",
       "105372      781235       NaN         NPR   \n",
       "105373      781240       NaN      Forbes   \n",
       "105374      781308       NaN      Forbes   \n",
       "\n",
       "                                                   author  \\\n",
       "105372                                    Brigid McCarthy   \n",
       "105373  Gary Stern, Contributor, \\n Gary Stern, Contri...   \n",
       "105374  Johan Hajji, Forbes Councils Member, \\n Johan ...   \n",
       "\n",
       "                                                    title  \\\n",
       "105372  Three hospitals ignored her gravely ill fiancé...   \n",
       "105373  Kerber’s Farm: Bringing Farm To Table To Manha...   \n",
       "105374  Tips For Investing In Short-Term Rentals In Dubai   \n",
       "\n",
       "                                              description  \\\n",
       "105372  Forty years ago, Sarah Lubarsky came home from...   \n",
       "105373  A farmstand in Long Island, Kerber’s Farms has...   \n",
       "105374  By exploring your options and keeping a few be...   \n",
       "\n",
       "                                                      url  \\\n",
       "105372  https://www.npr.org/2023/11/29/1215016001/heal...   \n",
       "105373  https://www.forbes.com/sites/garystern/2023/11...   \n",
       "105374  https://www.forbes.com/sites/forbesbusinesscou...   \n",
       "\n",
       "                                             url_to_image  \\\n",
       "105372  https://media.npr.org/assets/img/2023/11/23/sa...   \n",
       "105373  https://imageio.forbes.com/specials-images/ima...   \n",
       "105374  https://imageio.forbes.com/specials-images/ima...   \n",
       "\n",
       "               published_at  \\\n",
       "105372  2023-11-29 10:01:12   \n",
       "105373  2023-11-29 13:44:33   \n",
       "105374  2023-11-29 14:00:00   \n",
       "\n",
       "                                                  content category  \\\n",
       "105372  The photo from David and Sarah Lubarsky's wedd...     Home   \n",
       "105373  Kerbers Farm: Bringing Farm To Table To Manhat...     Home   \n",
       "105374  Cofounder at UpperKey. Passionate about proper...     Home   \n",
       "\n",
       "                                             full_content  \n",
       "105372  The photo from David and Sarah Lubarsky's wedd...  \n",
       "105373  Kerber’s Farm: Bringing Farm To Table To Manha...  \n",
       "105374  Cofounder at UpperKey. Passionate about proper...  "
      ]
     },
     "execution_count": 4,
     "metadata": {},
     "output_type": "execute_result"
    }
   ],
   "source": [
    "data.tail(3)"
   ]
  },
  {
   "cell_type": "code",
   "execution_count": 11,
   "metadata": {},
   "outputs": [
    {
     "data": {
      "text/html": [
       "<div>\n",
       "<style scoped>\n",
       "    .dataframe tbody tr th:only-of-type {\n",
       "        vertical-align: middle;\n",
       "    }\n",
       "\n",
       "    .dataframe tbody tr th {\n",
       "        vertical-align: top;\n",
       "    }\n",
       "\n",
       "    .dataframe thead th {\n",
       "        text-align: right;\n",
       "    }\n",
       "</style>\n",
       "<table border=\"1\" class=\"dataframe\">\n",
       "  <thead>\n",
       "    <tr style=\"text-align: right;\">\n",
       "      <th></th>\n",
       "      <th>article_id</th>\n",
       "    </tr>\n",
       "  </thead>\n",
       "  <tbody>\n",
       "    <tr>\n",
       "      <th>count</th>\n",
       "      <td>105375.000000</td>\n",
       "    </tr>\n",
       "    <tr>\n",
       "      <th>mean</th>\n",
       "      <td>195044.072987</td>\n",
       "    </tr>\n",
       "    <tr>\n",
       "      <th>std</th>\n",
       "      <td>199819.981007</td>\n",
       "    </tr>\n",
       "    <tr>\n",
       "      <th>min</th>\n",
       "      <td>363.000000</td>\n",
       "    </tr>\n",
       "    <tr>\n",
       "      <th>25%</th>\n",
       "      <td>50405.500000</td>\n",
       "    </tr>\n",
       "    <tr>\n",
       "      <th>50%</th>\n",
       "      <td>108862.000000</td>\n",
       "    </tr>\n",
       "    <tr>\n",
       "      <th>75%</th>\n",
       "      <td>284507.500000</td>\n",
       "    </tr>\n",
       "    <tr>\n",
       "      <th>max</th>\n",
       "      <td>781308.000000</td>\n",
       "    </tr>\n",
       "  </tbody>\n",
       "</table>\n",
       "</div>"
      ],
      "text/plain": [
       "          article_id\n",
       "count  105375.000000\n",
       "mean   195044.072987\n",
       "std    199819.981007\n",
       "min       363.000000\n",
       "25%     50405.500000\n",
       "50%    108862.000000\n",
       "75%    284507.500000\n",
       "max    781308.000000"
      ]
     },
     "execution_count": 11,
     "metadata": {},
     "output_type": "execute_result"
    }
   ],
   "source": [
    "data.describe()"
   ]
  },
  {
   "cell_type": "code",
   "execution_count": 12,
   "metadata": {},
   "outputs": [
    {
     "name": "stdout",
     "output_type": "stream",
     "text": [
      "<class 'pandas.core.frame.DataFrame'>\n",
      "RangeIndex: 105375 entries, 0 to 105374\n",
      "Data columns (total 12 columns):\n",
      " #   Column        Non-Null Count   Dtype \n",
      "---  ------        --------------   ----- \n",
      " 0   article_id    105375 non-null  int64 \n",
      " 1   source_id     24495 non-null   object\n",
      " 2   source_name   105375 non-null  object\n",
      " 3   author        97156 non-null   object\n",
      " 4   title         105375 non-null  object\n",
      " 5   description   104992 non-null  object\n",
      " 6   url           105375 non-null  object\n",
      " 7   url_to_image  99751 non-null   object\n",
      " 8   published_at  105375 non-null  object\n",
      " 9   content       105375 non-null  object\n",
      " 10  category      105333 non-null  object\n",
      " 11  full_content  58432 non-null   object\n",
      "dtypes: int64(1), object(11)\n",
      "memory usage: 9.6+ MB\n"
     ]
    }
   ],
   "source": [
    "data.info()"
   ]
  },
  {
   "cell_type": "code",
   "execution_count": 4,
   "metadata": {},
   "outputs": [
    {
     "data": {
      "text/html": [
       "<div>\n",
       "<style scoped>\n",
       "    .dataframe tbody tr th:only-of-type {\n",
       "        vertical-align: middle;\n",
       "    }\n",
       "\n",
       "    .dataframe tbody tr th {\n",
       "        vertical-align: top;\n",
       "    }\n",
       "\n",
       "    .dataframe thead th {\n",
       "        text-align: right;\n",
       "    }\n",
       "</style>\n",
       "<table border=\"1\" class=\"dataframe\">\n",
       "  <thead>\n",
       "    <tr style=\"text-align: right;\">\n",
       "      <th></th>\n",
       "      <th>article_id</th>\n",
       "      <th>source_id</th>\n",
       "      <th>source_name</th>\n",
       "      <th>author</th>\n",
       "      <th>title</th>\n",
       "      <th>description</th>\n",
       "      <th>url</th>\n",
       "      <th>url_to_image</th>\n",
       "      <th>published_at</th>\n",
       "      <th>content</th>\n",
       "      <th>category</th>\n",
       "      <th>article</th>\n",
       "      <th>title_sentiment</th>\n",
       "    </tr>\n",
       "  </thead>\n",
       "  <tbody>\n",
       "    <tr>\n",
       "      <th>0</th>\n",
       "      <td>81664</td>\n",
       "      <td>NaN</td>\n",
       "      <td>Forbes</td>\n",
       "      <td>Elizabeth Brownfield, Contributor, \\n Elizabet...</td>\n",
       "      <td>superstar chef yannick alléno brings refined f...</td>\n",
       "      <td>Now open in Mayfair at Four Seasons Hotel Lond...</td>\n",
       "      <td>https://www.forbes.com/sites/elizabethbrownfie...</td>\n",
       "      <td>https://imageio.forbes.com/specials-images/ima...</td>\n",
       "      <td>2023-11-01 03:27:21.000000</td>\n",
       "      <td>Pavyllon London, at Four Seasons Hotel London ...</td>\n",
       "      <td>Monaco</td>\n",
       "      <td>pavyllon london, at four seasons hotel london ...</td>\n",
       "      <td>Neutral</td>\n",
       "    </tr>\n",
       "    <tr>\n",
       "      <th>1</th>\n",
       "      <td>81667</td>\n",
       "      <td>NaN</td>\n",
       "      <td>CNA</td>\n",
       "      <td>NaN</td>\n",
       "      <td>nice claim top spot in ligue 1 with late win a...</td>\n",
       "      <td>Nice moved into provisional first place in the...</td>\n",
       "      <td>https://www.channelnewsasia.com/sport/nice-cla...</td>\n",
       "      <td>https://onecms-res.cloudinary.com/image/upload...</td>\n",
       "      <td>2023-10-27 21:28:48.000000</td>\n",
       "      <td>Nice moved into provisional first place in the...</td>\n",
       "      <td>Monaco</td>\n",
       "      <td>nice moved into provisional first place in the...</td>\n",
       "      <td>Positive</td>\n",
       "    </tr>\n",
       "    <tr>\n",
       "      <th>2</th>\n",
       "      <td>81694</td>\n",
       "      <td>time</td>\n",
       "      <td>Time</td>\n",
       "      <td>Christina Larson / AP</td>\n",
       "      <td>amphibians are the world’s most vulnerable spe...</td>\n",
       "      <td>The world’s frogs, salamanders, newts, and oth...</td>\n",
       "      <td>https://time.com/6320467/amphibians-most-vulne...</td>\n",
       "      <td>https://api.time.com/wp-content/uploads/2023/1...</td>\n",
       "      <td>2023-10-04 17:36:18.000000</td>\n",
       "      <td>The worlds frogs, salamanders, newts and other...</td>\n",
       "      <td>Madagascar</td>\n",
       "      <td>the world’s frogs, salamanders, newts and othe...</td>\n",
       "      <td>Negative</td>\n",
       "    </tr>\n",
       "  </tbody>\n",
       "</table>\n",
       "</div>"
      ],
      "text/plain": [
       "   article_id source_id source_name  \\\n",
       "0       81664       NaN      Forbes   \n",
       "1       81667       NaN         CNA   \n",
       "2       81694      time        Time   \n",
       "\n",
       "                                              author  \\\n",
       "0  Elizabeth Brownfield, Contributor, \\n Elizabet...   \n",
       "1                                                NaN   \n",
       "2                              Christina Larson / AP   \n",
       "\n",
       "                                               title  \\\n",
       "0  superstar chef yannick alléno brings refined f...   \n",
       "1  nice claim top spot in ligue 1 with late win a...   \n",
       "2  amphibians are the world’s most vulnerable spe...   \n",
       "\n",
       "                                         description  \\\n",
       "0  Now open in Mayfair at Four Seasons Hotel Lond...   \n",
       "1  Nice moved into provisional first place in the...   \n",
       "2  The world’s frogs, salamanders, newts, and oth...   \n",
       "\n",
       "                                                 url  \\\n",
       "0  https://www.forbes.com/sites/elizabethbrownfie...   \n",
       "1  https://www.channelnewsasia.com/sport/nice-cla...   \n",
       "2  https://time.com/6320467/amphibians-most-vulne...   \n",
       "\n",
       "                                        url_to_image  \\\n",
       "0  https://imageio.forbes.com/specials-images/ima...   \n",
       "1  https://onecms-res.cloudinary.com/image/upload...   \n",
       "2  https://api.time.com/wp-content/uploads/2023/1...   \n",
       "\n",
       "                 published_at  \\\n",
       "0  2023-11-01 03:27:21.000000   \n",
       "1  2023-10-27 21:28:48.000000   \n",
       "2  2023-10-04 17:36:18.000000   \n",
       "\n",
       "                                             content    category  \\\n",
       "0  Pavyllon London, at Four Seasons Hotel London ...      Monaco   \n",
       "1  Nice moved into provisional first place in the...      Monaco   \n",
       "2  The worlds frogs, salamanders, newts and other...  Madagascar   \n",
       "\n",
       "                                             article title_sentiment  \n",
       "0  pavyllon london, at four seasons hotel london ...         Neutral  \n",
       "1  nice moved into provisional first place in the...        Positive  \n",
       "2  the world’s frogs, salamanders, newts and othe...        Negative  "
      ]
     },
     "execution_count": 4,
     "metadata": {},
     "output_type": "execute_result"
    }
   ],
   "source": [
    "rating_data = pd.read_csv(\"./rating.csv\")\n",
    "rating_data.head(3)"
   ]
  },
  {
   "cell_type": "markdown",
   "metadata": {},
   "source": [
    "### Handling Null Values"
   ]
  },
  {
   "cell_type": "code",
   "execution_count": 5,
   "metadata": {},
   "outputs": [
    {
     "data": {
      "text/plain": [
       "article_id          0\n",
       "source_id       80880\n",
       "source_name         0\n",
       "author           8219\n",
       "title              40\n",
       "description       383\n",
       "url                 0\n",
       "url_to_image     5624\n",
       "published_at        0\n",
       "content             0\n",
       "category           42\n",
       "full_content    46943\n",
       "dtype: int64"
      ]
     },
     "execution_count": 5,
     "metadata": {},
     "output_type": "execute_result"
    }
   ],
   "source": [
    "null_counts = data.isnull().sum()\n",
    "null_counts"
   ]
  },
  {
   "cell_type": "code",
   "execution_count": 6,
   "metadata": {},
   "outputs": [
    {
     "data": {
      "text/html": [
       "<div>\n",
       "<style scoped>\n",
       "    .dataframe tbody tr th:only-of-type {\n",
       "        vertical-align: middle;\n",
       "    }\n",
       "\n",
       "    .dataframe tbody tr th {\n",
       "        vertical-align: top;\n",
       "    }\n",
       "\n",
       "    .dataframe thead th {\n",
       "        text-align: right;\n",
       "    }\n",
       "</style>\n",
       "<table border=\"1\" class=\"dataframe\">\n",
       "  <thead>\n",
       "    <tr style=\"text-align: right;\">\n",
       "      <th></th>\n",
       "      <th>article_id</th>\n",
       "      <th>source_id</th>\n",
       "      <th>source_name</th>\n",
       "      <th>author</th>\n",
       "      <th>title</th>\n",
       "      <th>description</th>\n",
       "      <th>url</th>\n",
       "      <th>url_to_image</th>\n",
       "      <th>published_at</th>\n",
       "      <th>content</th>\n",
       "      <th>category</th>\n",
       "      <th>full_content</th>\n",
       "    </tr>\n",
       "  </thead>\n",
       "  <tbody>\n",
       "    <tr>\n",
       "      <th>1139</th>\n",
       "      <td>91420</td>\n",
       "      <td>NaN</td>\n",
       "      <td>kottke.org</td>\n",
       "      <td>Jason Kottke</td>\n",
       "      <td>NaN</td>\n",
       "      <td>Is food in America better or worse than in oth...</td>\n",
       "      <td>https://kottke.org/23/10/0043175-is-food-in-am...</td>\n",
       "      <td>NaN</td>\n",
       "      <td>2023-10-06 22:16:33.000000</td>\n",
       "      <td>Is food in America better or worse than in oth...</td>\n",
       "      <td>Peru</td>\n",
       "      <td>NaN</td>\n",
       "    </tr>\n",
       "    <tr>\n",
       "      <th>16575</th>\n",
       "      <td>8362</td>\n",
       "      <td>NaN</td>\n",
       "      <td>Thegospelcoalition.org</td>\n",
       "      <td>Scotty Smith</td>\n",
       "      <td>NaN</td>\n",
       "      <td>“He (the Messiah—Jesus) shall judge between th...</td>\n",
       "      <td>https://www.thegospelcoalition.org/blogs/scott...</td>\n",
       "      <td>https://media.thegospelcoalition.org/wp-conten...</td>\n",
       "      <td>2023-10-08 11:28:57.000000</td>\n",
       "      <td>He (the MessiahJesus) shall judge between the ...</td>\n",
       "      <td>Somalia</td>\n",
       "      <td>NaN</td>\n",
       "    </tr>\n",
       "  </tbody>\n",
       "</table>\n",
       "</div>"
      ],
      "text/plain": [
       "       article_id source_id             source_name        author title  \\\n",
       "1139        91420       NaN              kottke.org  Jason Kottke   NaN   \n",
       "16575        8362       NaN  Thegospelcoalition.org  Scotty Smith   NaN   \n",
       "\n",
       "                                             description  \\\n",
       "1139   Is food in America better or worse than in oth...   \n",
       "16575  “He (the Messiah—Jesus) shall judge between th...   \n",
       "\n",
       "                                                     url  \\\n",
       "1139   https://kottke.org/23/10/0043175-is-food-in-am...   \n",
       "16575  https://www.thegospelcoalition.org/blogs/scott...   \n",
       "\n",
       "                                            url_to_image  \\\n",
       "1139                                                 NaN   \n",
       "16575  https://media.thegospelcoalition.org/wp-conten...   \n",
       "\n",
       "                     published_at  \\\n",
       "1139   2023-10-06 22:16:33.000000   \n",
       "16575  2023-10-08 11:28:57.000000   \n",
       "\n",
       "                                                 content category full_content  \n",
       "1139   Is food in America better or worse than in oth...     Peru          NaN  \n",
       "16575  He (the MessiahJesus) shall judge between the ...  Somalia          NaN  "
      ]
     },
     "execution_count": 6,
     "metadata": {},
     "output_type": "execute_result"
    }
   ],
   "source": [
    "data[data['title'].isnull()].head(2)"
   ]
  },
  {
   "cell_type": "code",
   "execution_count": 7,
   "metadata": {},
   "outputs": [
    {
     "data": {
      "text/plain": [
       "0"
      ]
     },
     "execution_count": 7,
     "metadata": {},
     "output_type": "execute_result"
    }
   ],
   "source": [
    "data['title'] = data['title'].fillna(data['content'])\n",
    "data['title'].isnull().sum()"
   ]
  },
  {
   "cell_type": "code",
   "execution_count": 8,
   "metadata": {},
   "outputs": [
    {
     "data": {
      "text/html": [
       "<div>\n",
       "<style scoped>\n",
       "    .dataframe tbody tr th:only-of-type {\n",
       "        vertical-align: middle;\n",
       "    }\n",
       "\n",
       "    .dataframe tbody tr th {\n",
       "        vertical-align: top;\n",
       "    }\n",
       "\n",
       "    .dataframe thead th {\n",
       "        text-align: right;\n",
       "    }\n",
       "</style>\n",
       "<table border=\"1\" class=\"dataframe\">\n",
       "  <thead>\n",
       "    <tr style=\"text-align: right;\">\n",
       "      <th></th>\n",
       "      <th>article_id</th>\n",
       "      <th>source_id</th>\n",
       "      <th>source_name</th>\n",
       "      <th>author</th>\n",
       "      <th>title</th>\n",
       "      <th>description</th>\n",
       "      <th>url</th>\n",
       "      <th>url_to_image</th>\n",
       "      <th>published_at</th>\n",
       "      <th>content</th>\n",
       "      <th>category</th>\n",
       "      <th>full_content</th>\n",
       "    </tr>\n",
       "  </thead>\n",
       "  <tbody>\n",
       "    <tr>\n",
       "      <th>1</th>\n",
       "      <td>89542</td>\n",
       "      <td>NaN</td>\n",
       "      <td>Prtimes.jp</td>\n",
       "      <td>NaN</td>\n",
       "      <td>RANDEBOOよりワンランク上の大人っぽさが漂うニットとベストが新登場。</td>\n",
       "      <td>[株式会社Ainer]\\nRANDEBOO（ランデブー）では2023年7月18日(火)より公...</td>\n",
       "      <td>https://prtimes.jp/main/html/rd/p/000000147.00...</td>\n",
       "      <td>https://prtimes.jp/i/32220/147/ogp/d32220-147-...</td>\n",
       "      <td>2023-10-06 04:40:02.000000</td>\n",
       "      <td>RANDEBOO2023718()WEB2023 Autumn Winter \\n\"Nepa...</td>\n",
       "      <td>Nepal</td>\n",
       "      <td>NaN</td>\n",
       "    </tr>\n",
       "    <tr>\n",
       "      <th>2</th>\n",
       "      <td>89543</td>\n",
       "      <td>NaN</td>\n",
       "      <td>VOA News</td>\n",
       "      <td>webdesk@voanews.com (Agence France-Presse)</td>\n",
       "      <td>UN Chief Urges World to 'Stop the Madness' of ...</td>\n",
       "      <td>UN Secretary-General Antonio Guterres urged th...</td>\n",
       "      <td>https://www.voanews.com/a/un-chief-urges-world...</td>\n",
       "      <td>https://gdb.voanews.com/01000000-0a00-0242-60f...</td>\n",
       "      <td>2023-10-30 10:53:30.000000</td>\n",
       "      <td>Kathmandu, Nepal  UN Secretary-General Antonio...</td>\n",
       "      <td>Nepal</td>\n",
       "      <td>NaN</td>\n",
       "    </tr>\n",
       "  </tbody>\n",
       "</table>\n",
       "</div>"
      ],
      "text/plain": [
       "   article_id source_id source_name  \\\n",
       "1       89542       NaN  Prtimes.jp   \n",
       "2       89543       NaN    VOA News   \n",
       "\n",
       "                                       author  \\\n",
       "1                                         NaN   \n",
       "2  webdesk@voanews.com (Agence France-Presse)   \n",
       "\n",
       "                                               title  \\\n",
       "1              RANDEBOOよりワンランク上の大人っぽさが漂うニットとベストが新登場。   \n",
       "2  UN Chief Urges World to 'Stop the Madness' of ...   \n",
       "\n",
       "                                         description  \\\n",
       "1  [株式会社Ainer]\\nRANDEBOO（ランデブー）では2023年7月18日(火)より公...   \n",
       "2  UN Secretary-General Antonio Guterres urged th...   \n",
       "\n",
       "                                                 url  \\\n",
       "1  https://prtimes.jp/main/html/rd/p/000000147.00...   \n",
       "2  https://www.voanews.com/a/un-chief-urges-world...   \n",
       "\n",
       "                                        url_to_image  \\\n",
       "1  https://prtimes.jp/i/32220/147/ogp/d32220-147-...   \n",
       "2  https://gdb.voanews.com/01000000-0a00-0242-60f...   \n",
       "\n",
       "                 published_at  \\\n",
       "1  2023-10-06 04:40:02.000000   \n",
       "2  2023-10-30 10:53:30.000000   \n",
       "\n",
       "                                             content category full_content  \n",
       "1  RANDEBOO2023718()WEB2023 Autumn Winter \\n\"Nepa...    Nepal          NaN  \n",
       "2  Kathmandu, Nepal  UN Secretary-General Antonio...    Nepal          NaN  "
      ]
     },
     "execution_count": 8,
     "metadata": {},
     "output_type": "execute_result"
    }
   ],
   "source": [
    "data[data['full_content'].isnull()].head(2)"
   ]
  },
  {
   "cell_type": "code",
   "execution_count": 9,
   "metadata": {},
   "outputs": [
    {
     "data": {
      "text/plain": [
       "0"
      ]
     },
     "execution_count": 9,
     "metadata": {},
     "output_type": "execute_result"
    }
   ],
   "source": [
    "data['full_content'] = data['full_content'].fillna(data['content'])\n",
    "data['full_content'].isnull().sum()"
   ]
  },
  {
   "cell_type": "markdown",
   "metadata": {},
   "source": [
    "## Information Retrieval\n",
    "Return the most relevant documents from the natural query using cosine similarity"
   ]
  },
  {
   "cell_type": "code",
   "execution_count": 10,
   "metadata": {},
   "outputs": [
    {
     "name": "stdout",
     "output_type": "stream",
     "text": [
      "Wall time: 29.1 s\n"
     ]
    }
   ],
   "source": [
    "%%time\n",
    "def search_articles(query, data, topn=5):\n",
    "    vectorizer = TfidfVectorizer(stop_words='english')\n",
    "    tfidf_matrix = vectorizer.fit_transform(data['full_content'])\n",
    "    query_vector = vectorizer.transform([query])\n",
    "    cosine_similarities = cosine_similarity(query_vector, tfidf_matrix).flatten()\n",
    "    article_indices = cosine_similarities.argsort()[::-1]\n",
    "    relevant_articles = data.iloc[article_indices][:topn]\n",
    "    return relevant_articles\n",
    "\n",
    "query = \"Israel hamas war\"\n",
    "results = search_articles(query, data, 10)"
   ]
  },
  {
   "cell_type": "code",
   "execution_count": 12,
   "metadata": {},
   "outputs": [
    {
     "data": {
      "text/html": [
       "<div>\n",
       "<style scoped>\n",
       "    .dataframe tbody tr th:only-of-type {\n",
       "        vertical-align: middle;\n",
       "    }\n",
       "\n",
       "    .dataframe tbody tr th {\n",
       "        vertical-align: top;\n",
       "    }\n",
       "\n",
       "    .dataframe thead th {\n",
       "        text-align: right;\n",
       "    }\n",
       "</style>\n",
       "<table border=\"1\" class=\"dataframe\">\n",
       "  <thead>\n",
       "    <tr style=\"text-align: right;\">\n",
       "      <th></th>\n",
       "      <th>article_id</th>\n",
       "      <th>source_id</th>\n",
       "      <th>source_name</th>\n",
       "      <th>author</th>\n",
       "      <th>title</th>\n",
       "      <th>description</th>\n",
       "      <th>url</th>\n",
       "      <th>url_to_image</th>\n",
       "      <th>published_at</th>\n",
       "      <th>content</th>\n",
       "      <th>category</th>\n",
       "      <th>full_content</th>\n",
       "    </tr>\n",
       "  </thead>\n",
       "  <tbody>\n",
       "    <tr>\n",
       "      <th>4922</th>\n",
       "      <td>965</td>\n",
       "      <td>bbc-news</td>\n",
       "      <td>BBC News</td>\n",
       "      <td>https://www.facebook.com/bbcnews</td>\n",
       "      <td>Israel-Gaza: We answer your questions</td>\n",
       "      <td>Our correspondents answer your questions on th...</td>\n",
       "      <td>https://www.bbc.co.uk/news/world-middle-east-6...</td>\n",
       "      <td>https://ichef.bbci.co.uk/news/1024/branded_new...</td>\n",
       "      <td>2023-10-16 20:24:36.000000</td>\n",
       "      <td>The world is still reeling from the unpreceden...</td>\n",
       "      <td>Qatar</td>\n",
       "      <td>The world is still reeling from the unpreceden...</td>\n",
       "    </tr>\n",
       "    <tr>\n",
       "      <th>81005</th>\n",
       "      <td>335867</td>\n",
       "      <td>abc-news</td>\n",
       "      <td>ABC News</td>\n",
       "      <td>FATIMA HUSSEIN Associated Press</td>\n",
       "      <td>A third round of US sanctions against Hamas fo...</td>\n",
       "      <td>The United States says it has imposed a third ...</td>\n",
       "      <td>https://abcnews.go.com/Business/wireStory/roun...</td>\n",
       "      <td>https://i.abcnewsfe.com/a/c4e6de43-1581-476f-b...</td>\n",
       "      <td>2023-11-14 13:50:35</td>\n",
       "      <td>WASHINGTON -- The United States on Tuesday sai...</td>\n",
       "      <td>Finance</td>\n",
       "      <td>WASHINGTON --The United States on Tuesday said...</td>\n",
       "    </tr>\n",
       "    <tr>\n",
       "      <th>46694</th>\n",
       "      <td>72866</td>\n",
       "      <td>cnn</td>\n",
       "      <td>CNN</td>\n",
       "      <td>Abbas Al Lawati, Nadeen Ebrahim</td>\n",
       "      <td>Israel is at war with Hamas. Here's what to know</td>\n",
       "      <td>Israel has declared war on the Palestinian mil...</td>\n",
       "      <td>https://www.cnn.com/2023/10/09/middleeast/isra...</td>\n",
       "      <td>https://media.cnn.com/api/v1/images/stellar/pr...</td>\n",
       "      <td>2023-10-09 16:46:21.000000</td>\n",
       "      <td>Editors Note: A version of this story appears ...</td>\n",
       "      <td>Iran, Islamic Republic of</td>\n",
       "      <td>Editor’s Note:A version of this story appears ...</td>\n",
       "    </tr>\n",
       "  </tbody>\n",
       "</table>\n",
       "</div>"
      ],
      "text/plain": [
       "       article_id source_id source_name                            author  \\\n",
       "4922          965  bbc-news    BBC News  https://www.facebook.com/bbcnews   \n",
       "81005      335867  abc-news    ABC News   FATIMA HUSSEIN Associated Press   \n",
       "46694       72866       cnn         CNN   Abbas Al Lawati, Nadeen Ebrahim   \n",
       "\n",
       "                                                   title  \\\n",
       "4922               Israel-Gaza: We answer your questions   \n",
       "81005  A third round of US sanctions against Hamas fo...   \n",
       "46694   Israel is at war with Hamas. Here's what to know   \n",
       "\n",
       "                                             description  \\\n",
       "4922   Our correspondents answer your questions on th...   \n",
       "81005  The United States says it has imposed a third ...   \n",
       "46694  Israel has declared war on the Palestinian mil...   \n",
       "\n",
       "                                                     url  \\\n",
       "4922   https://www.bbc.co.uk/news/world-middle-east-6...   \n",
       "81005  https://abcnews.go.com/Business/wireStory/roun...   \n",
       "46694  https://www.cnn.com/2023/10/09/middleeast/isra...   \n",
       "\n",
       "                                            url_to_image  \\\n",
       "4922   https://ichef.bbci.co.uk/news/1024/branded_new...   \n",
       "81005  https://i.abcnewsfe.com/a/c4e6de43-1581-476f-b...   \n",
       "46694  https://media.cnn.com/api/v1/images/stellar/pr...   \n",
       "\n",
       "                     published_at  \\\n",
       "4922   2023-10-16 20:24:36.000000   \n",
       "81005         2023-11-14 13:50:35   \n",
       "46694  2023-10-09 16:46:21.000000   \n",
       "\n",
       "                                                 content  \\\n",
       "4922   The world is still reeling from the unpreceden...   \n",
       "81005  WASHINGTON -- The United States on Tuesday sai...   \n",
       "46694  Editors Note: A version of this story appears ...   \n",
       "\n",
       "                        category  \\\n",
       "4922                       Qatar   \n",
       "81005                    Finance   \n",
       "46694  Iran, Islamic Republic of   \n",
       "\n",
       "                                            full_content  \n",
       "4922   The world is still reeling from the unpreceden...  \n",
       "81005  WASHINGTON --The United States on Tuesday said...  \n",
       "46694  Editor’s Note:A version of this story appears ...  "
      ]
     },
     "execution_count": 12,
     "metadata": {},
     "output_type": "execute_result"
    }
   ],
   "source": [
    "results.head(3)"
   ]
  },
  {
   "cell_type": "code",
   "execution_count": 30,
   "metadata": {},
   "outputs": [
    {
     "name": "stdout",
     "output_type": "stream",
     "text": [
      "Israel-Gaza: We answer your questions\n",
      "The world is still reeling from the unprecedent assault by Hamas gunmen on 7 October, and the subsequent retaliatory strikes by Israel and expected land invasion into the Gaza Strip.  We have received hundreds of your questions about the conflict, its impact and where it may end, with many people asking if other countries will get involved in the war. Our correspondents, many currently in the region, have answered some of the most frequently asked questions below.  Craig Johnson in Skelmersdale, UK asks: If Iran gets directly involved in the conflict, would that prompt the US and its allies to directly join the war? And could this lead to a third world war? Jeremy Bowen, our international editor, reporting from southern Israel, says: When asked about the possibility of intervention by Iran or its Lebanese ally Hezbollah, Joe Biden said: \"Don't.\" The Americans just deployed two aircraft carrier battle groups to the eastern Mediterranean to send a very firm message to Iran to stay out. They're saying that if anyone intervenes, they will have American military might to reckon with, not just Israel's. One of the major fault lines in the Middle East runs between the US and its allies, and the Iranians and theirs. Both sides are aware of the risks. If it went from a cold to a hot war it would ignite a Middle East conflagration of global significance. Luciano Sisi in the Scottish Borders asks: What is Israel's overall objective with the anticipated ground war? Lyse Doucet, our chief international correspondent, in southern Israel says: In past wars, Israel vowed to \"hit Hamas hard\", to destroy its capacity to fire rockets into Israel - including its vast web of subterranean tunnels. This time is different. Israel is vowing \"to destroy Hamas\" - an organisation it says should be obliterated, like the Islamic State group. Israel has the military might to smash Hamas's infrastructure, crush its tunnels, and cripple its command and control networks. But it's not clear how much Israel knows about what awaits in Gaza. Hamas's military prowess, including an astonishingly granular understanding of Israeli security that enabled it to outsmart its formidable defences, has shocked Israelis. Hamas is likely to possess the same sophistication when it confronts what it knows will be a ferocious Israeli response. And unlike the Islamic State group, Hamas is also a political and social organisation embedded in Palestinian society. A military onslaught can destroy its metal and concrete but not the mettle of the people whose resolve to die for their cause will only harden. Andrew Parker in the UK asks: What was the goal of the initial Hamas attack? Frank Gardner, our security correspondent, tells us: The reason given at the time by Hamas's spokesman Mohammed Al-Deif was that \"enough is enough\". The attack, he said, was in response to what Hamas called constant provocations and humiliations suffered by Palestinians at the hands of Israelis in both Gaza and the West Bank. Analysts believe there may have been other, undeclared reasons. Before the attack, Israel and Saudi Arabia were well on the way to normalising ties. This was opposed by both Hamas and its backer, Iran. The Saudis have now suspended those talks. But there will have been more to it than that. Hamas's leadership will have noticed the sharp divisions in Israeli society caused by judicial reforms introduced by the right-wing government of Benjamin Netanyahu. They aimed to deal Israel a painful blow - and in that they succeeded. Diana in the UK, who asks: Muslims speak of the family and brotherhood of Islam. How can Muslims in Egypt justify keeping their border with Gaza closed? Jeremy Bowen, our international editor, reporting from southern Israel says:  Islam is a faith but it doesn't necessarily transcend the politics of national security. I'm certain millions of Egyptian Muslims want to alleviate the suffering of civilians in Gaza. But the Egyptian government, even at quiet times, does not allow routine access from Gaza through the Rafah crossing. Egypt has been the junior partner in earlier versions of Israel's siege of Gaza ever since Hamas took over there in 2007. Hamas has its roots in the Muslim Brotherhood, an organisation founded in Egypt a century ago. The Brotherhood wants to reshape states and society in line with Islamic teaching and belief. The Egyptian military opposes that desire. It overthrew an elected Muslim president in 2013. Egypt's current regime has relations with Hamas, and has in the past been the link between Hamas and Israel. But it does not want an influx of Palestinian refugees.  The camps in Gaza still exist 75 years after they were established to house refugees - forced out by newly independent Israel - who have never been allowed home. Simon in the UK asks: The world issued an international arrest warrant against Putin. Why has there not been the same response against Hamas leadership? Was this not a war crime on a massive scale? Paul Adams, our world affairs correspondent answers: Israel did not consider itself at war with Hamas before 7 October, despite previous rounds of conflict stretching back many years. For Israel, this was an act of terrorism, not war. Benjamin Netanyahu's government is pursuing justice in its own way and has already killed at least two Hamas commanders it regards as responsible for the massacres. It will doubtless attempt to kill many more. Questions may arise about the organisation's political leadership - which lives in Qatar and Lebanon - who, some say, were unaware of the military wing's plans to attack inside Israel. Sadul Hoque from London asks: If everyone has agreed that Israel has been killing civilians and will kill a lot more in these new strikes, why are the UN and other countries not intervening? James Landale, our diplomatic correspondent gives this answer: The main reason why many countries are not urging Israel to stop its airstrikes is because they accept the country has been attacked by Hamas and has a right to defend itself. Where they are urging restraint is about how Israel defends itself. UK Prime Minister Rishi Sunak said this morning: \"I've raised with the Israeli prime minister the need to minimise the impact on civilians as best we can.\" The United Nations too has urged Israel to avoid civilian casualties. The UN Secretary General Antonio Guterres said a few days ago: \"International humanitarian law and human rights law must be respected and upheld; civilians must be protected and also never used as shields.\" Israel insists its warplanes and artillery are striking Hamas targets in Gaza. But many civilians are indeed being killed and injured in those strikes. Palestinians say that is because the Israeli strikes are excessive and indiscriminate. Israel says it is because Hamas uses civilians as human shields. An anonymous reader asks: How is it possible that the Israeli military have enough intelligence and surveillance to know exactly where Hamas is stationed in Gaza, but it didn't know Hamas were going to attack Israel or see any warning signs of the attack? Yolande Knell, our Middle East correspondent, in Jerusalem, says: In the past, Israel's military has opened up its control centre for surveillance of Gaza to journalists, and it's clear that it has excellent real-time information about movements on the ground from drones and other cameras. It also has a vast network of informants. We saw in May's fighting with Islamic Jihad just how accurate Israel's information on the whereabouts of leading militants could be. In briefings, Israeli military officials accept there have been major intelligence and security failings when it comes to the unprecedented, deadly attack by Hamas. However, we can rely on the fact that it has an accurate, long list of Hamas targets that it will go after as soon as it gets boots on the ground. Further north from the Gaza Strip, tensions are rising between Lebanon and Israel. One reader wants to know: If Lebanon gets involved, how big a force is Hezbollah compared to Hamas? Hugo Bachega, reporting from southern Lebanon, says: Hezbollah - a Lebanese military, political, and social movement - has long been seen by Israel as a more formidable force than Hamas. The heavily armed Iranian-backed group has an estimated 130,000 rockets and missiles, according to the Center for Strategic and International Studies. Most of this arsenal is made up of small, man-portable and unguided surface-to-surface artillery rockets. But it also includes anti-aircraft and anti-ship missiles, as well as guided missiles capable of striking deep inside Israel. This is much more sophisticated than what Hamas has at its disposal. Hezbollah's leader has claimed to have 100,000 fighters, although independent estimates vary between 20,000 and 50,000. Many are well trained and battle hardened, and have fought in the Syrian civil war. Hamas, by comparison, has an estimated 30,000 fighters, according to Israel.\n",
      "https://www.bbc.co.uk/news/world-middle-east-67128533\n"
     ]
    }
   ],
   "source": [
    "title = results.iloc[0].title\n",
    "content = results.iloc[0].full_content\n",
    "url = results.iloc[0].url\n",
    "print(title, content, url, sep=\"\\n\")"
   ]
  },
  {
   "cell_type": "markdown",
   "metadata": {},
   "source": [
    "**TODO**: Sort relevant articles by date, optimize performance"
   ]
  },
  {
   "cell_type": "markdown",
   "metadata": {},
   "source": [
    "### Keyword Extraction"
   ]
  },
  {
   "cell_type": "code",
   "execution_count": 32,
   "metadata": {},
   "outputs": [
    {
     "name": "stdout",
     "output_type": "stream",
     "text": [
      "Wall time: 18.5 ms\n"
     ]
    },
    {
     "data": {
      "text/plain": [
       "['israel', 'hamas', 'gaza', 'military', 'war']"
      ]
     },
     "execution_count": 32,
     "metadata": {},
     "output_type": "execute_result"
    }
   ],
   "source": [
    "%%time\n",
    "def extract_keywords(document, topn=5):\n",
    "    vectorizer = TfidfVectorizer(stop_words='english')\n",
    "    tfidf_matrix = vectorizer.fit_transform([document])\n",
    "    feature_names = vectorizer.get_feature_names_out()\n",
    "    word_scores = [(feature_names[i], tfidf_matrix[0, i]) for i in range(tfidf_matrix.shape[1])]\n",
    "    word_scores_sorted = sorted(word_scores, key=lambda x: x[1], reverse=True)\n",
    "    top_keywords = [word for word, score in word_scores_sorted[:topn]]\n",
    "    return top_keywords\n",
    "\n",
    "keywords = extract_keywords(content, 5)\n",
    "keywords"
   ]
  },
  {
   "cell_type": "markdown",
   "metadata": {},
   "source": [
    "## Text Summarization\n",
    "**TODO**: Summarize blocks of 512 words"
   ]
  },
  {
   "cell_type": "code",
   "execution_count": 33,
   "metadata": {},
   "outputs": [
    {
     "name": "stderr",
     "output_type": "stream",
     "text": [
      "Token indices sequence length is longer than the specified maximum sequence length for this model (2033 > 512). Running this sequence through the model will result in indexing errors\n"
     ]
    },
    {
     "name": "stdout",
     "output_type": "stream",
     "text": [
      "Wall time: 12.8 s\n"
     ]
    },
    {
     "data": {
      "text/plain": [
       "'We have received hundreds of your questions about the conflict, its impact and where it may end . Our correspondents, many currently in the region, have answered some of the most frequently asked questions . If Iran gets directly involved, would that prompt the US to join the war? And could this lead to a third world war?'"
      ]
     },
     "execution_count": 33,
     "metadata": {},
     "output_type": "execute_result"
    }
   ],
   "source": [
    "%%time\n",
    "summarizer = pipeline(\"summarization\", model=\"./text_summarization\")\n",
    "res = summarizer(content, max_length=1000, min_length=30, do_sample=False)\n",
    "summary = res[0]['summary_text']\n",
    "summary"
   ]
  },
  {
   "cell_type": "code",
   "execution_count": 35,
   "metadata": {},
   "outputs": [
    {
     "data": {
      "text/plain": [
       "(8993, 323)"
      ]
     },
     "execution_count": 35,
     "metadata": {},
     "output_type": "execute_result"
    }
   ],
   "source": [
    "len(content), len(summary)"
   ]
  },
  {
   "cell_type": "code",
   "execution_count": 36,
   "metadata": {},
   "outputs": [
    {
     "data": {
      "text/plain": [
       "65"
      ]
     },
     "execution_count": 36,
     "metadata": {},
     "output_type": "execute_result"
    }
   ],
   "source": [
    "sentences = content.split(\". \")\n",
    "len(sentences)"
   ]
  },
  {
   "cell_type": "code",
   "execution_count": 39,
   "metadata": {},
   "outputs": [
    {
     "name": "stdout",
     "output_type": "stream",
     "text": [
      "Wall time: 14.5 s\n"
     ]
    },
    {
     "data": {
      "text/plain": [
       "\"We have received hundreds of your questions about the conflict, its impact and where it may end . Our correspondents, many currently in the region, have answered some of the most frequently asked questions below . Jeremy Bowen in Skelmersdale, UK asks: Would that prompt the US and its allies to join the war? The Americans just deployed two aircraft carrier battle groups to the eastern Mediterranean .Israel has been the junior partner in earlier versions of Israel's siege of Gaza since 2007 . The Brotherhood wants to reshape states and society in line with Islamic teaching and belief . Egypt's current regime has relations with Hamas, but it does not want an influx of Palestinian refugees . Palestinians say that is because Israeli strikes are excessive and indiscriminate .\""
      ]
     },
     "execution_count": 39,
     "metadata": {},
     "output_type": "execute_result"
    }
   ],
   "source": [
    "%%time\n",
    "out = [summarizer(\". \".join(sentences[i*30:i*30+30]), max_length=500, min_length=30, do_sample=False)[0]['summary_text'] for i in range(2)]\n",
    "\"\".join(out)"
   ]
  },
  {
   "cell_type": "code",
   "execution_count": null,
   "metadata": {},
   "outputs": [],
   "source": []
  }
 ],
 "metadata": {
  "kernelspec": {
   "display_name": "Python 3 (ipykernel)",
   "language": "python",
   "name": "python3"
  },
  "language_info": {
   "codemirror_mode": {
    "name": "ipython",
    "version": 3
   },
   "file_extension": ".py",
   "mimetype": "text/x-python",
   "name": "python",
   "nbconvert_exporter": "python",
   "pygments_lexer": "ipython3",
   "version": "3.9.9"
  }
 },
 "nbformat": 4,
 "nbformat_minor": 4
}
